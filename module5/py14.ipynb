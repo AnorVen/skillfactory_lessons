{
 "cells": [
  {
   "cell_type": "code",
   "execution_count": 38,
   "metadata": {},
   "outputs": [],
   "source": [
    "class DepartmentReport():\n",
    "    def __init__ (self, company_name):\n",
    "        self.company_name = company_name\n",
    "        self.revenues = []\n",
    "\n",
    "    def add_revenue(self, count):\n",
    "        self.revenues.append(count)\n",
    "        \n",
    "    def average_revenue(self):\n",
    "        temp = 0\n",
    "        for i in self.revenues:\n",
    "            temp += i\n",
    "        return f'Average department revenue for {self.company_name}: {int(temp / len(self.revenues))}'        "
   ]
  },
  {
   "cell_type": "code",
   "execution_count": 39,
   "metadata": {},
   "outputs": [
    {
     "name": "stdout",
     "output_type": "stream",
     "text": [
      "[1000000, 400000]\n",
      "Average department revenue for Danon: 700000\n"
     ]
    }
   ],
   "source": [
    "report = DepartmentReport(\"Danon\")\n",
    "report.add_revenue(1_000_000)\n",
    "report.add_revenue(400_000)\n",
    "print(report.revenues)\n",
    "# => [1000000, 400000]\n",
    "print(report.average_revenue())\n",
    "# => 700000.0"
   ]
  },
  {
   "cell_type": "code",
   "execution_count": null,
   "metadata": {},
   "outputs": [],
   "source": []
  },
  {
   "cell_type": "code",
   "execution_count": 40,
   "metadata": {},
   "outputs": [
    {
     "name": "stdout",
     "output_type": "stream",
     "text": [
      "Average department revenue for Danon: 700000\n"
     ]
    }
   ],
   "source": [
    "report = DepartmentReport(\"Danon\")\n",
    "report.add_revenue(1_000_000)\n",
    "report.add_revenue(400_000)\n",
    "\n",
    "print(report.average_revenue())\n",
    "# => Average department revenue for Danon: 700000"
   ]
  },
  {
   "cell_type": "code",
   "execution_count": 41,
   "metadata": {},
   "outputs": [],
   "source": [
    "class Player():\n",
    "    def play():\n",
    "        print(\"playing\")"
   ]
  },
  {
   "cell_type": "code",
   "execution_count": 51,
   "metadata": {},
   "outputs": [],
   "source": [
    "class User():\n",
    "    def __init__(self, email, password , balance  = 0):  \n",
    "        self.email = email  \n",
    "        self.password  = password   \n",
    "        self.balance = balance  \n",
    "        \n",
    "    def login(self, email, passw):\n",
    "        if email == self.email and passw == self.password:\n",
    "            return True\n",
    "        return False\n",
    "    \n",
    "    def update_balance(self, a):\n",
    "        self.balance += a\n",
    "    "
   ]
  },
  {
   "cell_type": "code",
   "execution_count": 52,
   "metadata": {},
   "outputs": [
    {
     "name": "stdout",
     "output_type": "stream",
     "text": [
      "19700\n"
     ]
    }
   ],
   "source": [
    "user = User(\"gosha@roskino.org\", \"qwerty\", 20_000)\n",
    "user.login(\"gosha@roskino.org\", \"qwerty123\")\n",
    "# => False\n",
    "user.login(\"gosha@roskino.org\", \"qwerty\")\n",
    "# => True\n",
    "user.update_balance(200)\n",
    "user.update_balance(-500)\n",
    "print(user.balance)\n",
    "# => 19700"
   ]
  },
  {
   "cell_type": "code",
   "execution_count": 72,
   "metadata": {},
   "outputs": [],
   "source": [
    "import math\n",
    "class IntDataFrame():\n",
    "    def __init__(self, arr = []):\n",
    "        self.arr = list(map(lambda x: math.trunc(x), arr))\n",
    "        \n",
    "    def count(self):\n",
    "        temp = []\n",
    "        for i in self.arr:\n",
    "            if i != 0:\n",
    "                temp.append(i)\n",
    "        return len(temp)\n",
    "        \n",
    "    def unique(self):\n",
    "        temp = []\n",
    "        for i in self.arr:\n",
    "            if i not in temp:\n",
    "                temp.append(i)\n",
    "                \n",
    "        return len(temp)\n",
    "    "
   ]
  },
  {
   "cell_type": "code",
   "execution_count": 73,
   "metadata": {},
   "outputs": [
    {
     "data": {
      "text/plain": [
       "4"
      ]
     },
     "execution_count": 73,
     "metadata": {},
     "output_type": "execute_result"
    }
   ],
   "source": [
    "df = IntDataFrame([4.7, 4, 3, 0, 2.4, 0.3, 4])\n",
    "\n",
    "df.count()\n",
    "# => 5\n",
    "df.unique()\n",
    "# => 4"
   ]
  },
  {
   "cell_type": "code",
   "execution_count": 74,
   "metadata": {},
   "outputs": [
    {
     "data": {
      "text/plain": [
       "[4, 4, 3, 0, 2, 0, 4]"
      ]
     },
     "execution_count": 74,
     "metadata": {},
     "output_type": "execute_result"
    }
   ],
   "source": [
    "df.arr"
   ]
  },
  {
   "cell_type": "code",
   "execution_count": 96,
   "metadata": {},
   "outputs": [],
   "source": [
    "class OwnLogger():\n",
    "    def __init__(self):\n",
    "        self.all = []\n",
    "        self.info = []\n",
    "        self.warning = []\n",
    "        self.error = []\n",
    "        \n",
    "    def log(self, text, type_text):\n",
    "        if type_text == 'info':\n",
    "            self.all.append(text)\n",
    "            self.info.append(text)\n",
    "            \n",
    "        elif type_text == 'warning':\n",
    "            self.all.append(text)\n",
    "            self.warning.append(text)\n",
    "        \n",
    "        elif type_text == 'error':\n",
    "            self.all.append(text)\n",
    "            self.error.append(text)\n",
    "            \n",
    "            \n",
    "    def show_last(self, type_text = 'all'):\n",
    "        if type_text == 'info':\n",
    "            return self.info[-1] if len(self.info) > 0 else None\n",
    "\n",
    "        elif type_text == 'warning':\n",
    "            return self.warning[-1] if len(self.warning) > 0 else None\n",
    "\n",
    "        elif type_text == 'error':\n",
    "            return self.error[-1] if len(self.error) > 0 else None\n",
    "\n",
    "        elif type_text == 'all':\n",
    "            return self.all[-1] if len(self.all) > 0 else None\n",
    "\n",
    "        else:\n",
    "            return None\n",
    "    \n",
    "            "
   ]
  },
  {
   "cell_type": "code",
   "execution_count": 97,
   "metadata": {},
   "outputs": [
    {
     "data": {
      "text/plain": [
       "'System started'"
      ]
     },
     "execution_count": 97,
     "metadata": {},
     "output_type": "execute_result"
    }
   ],
   "source": [
    "logger = OwnLogger()\n",
    "logger.log(\"System started\", \"info\")\n",
    "logger.show_last(\"error\")\n",
    "# => None\n",
    "# Некоторые интерпретаторы Python могут не выводить None, тогда в этой проверке у вас будет пустая строка\n",
    "logger.log(\"Connection instable\", \"warning\")\n",
    "logger.log(\"Connection lost\", \"error\")\n",
    "\n",
    "logger.show_last()\n",
    "# => Connection lost\n",
    "logger.show_last(\"info\")\n",
    "# => System started"
   ]
  },
  {
   "cell_type": "code",
   "execution_count": null,
   "metadata": {},
   "outputs": [],
   "source": []
  }
 ],
 "metadata": {
  "kernelspec": {
   "display_name": "Python 3",
   "language": "python",
   "name": "python3"
  },
  "language_info": {
   "codemirror_mode": {
    "name": "ipython",
    "version": 3
   },
   "file_extension": ".py",
   "mimetype": "text/x-python",
   "name": "python",
   "nbconvert_exporter": "python",
   "pygments_lexer": "ipython3",
   "version": "3.7.7"
  }
 },
 "nbformat": 4,
 "nbformat_minor": 4
}
