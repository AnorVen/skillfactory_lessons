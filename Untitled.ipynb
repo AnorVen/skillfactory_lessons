{
 "cells": [
  {
   "cell_type": "code",
   "execution_count": 1,
   "metadata": {},
   "outputs": [],
   "source": [
    "a = -29.3 - 0.26*0.2 +8.4*6"
   ]
  },
  {
   "cell_type": "code",
   "execution_count": 2,
   "metadata": {},
   "outputs": [
    {
     "data": {
      "text/plain": [
       "21.048000000000005"
      ]
     },
     "execution_count": 2,
     "metadata": {},
     "output_type": "execute_result"
    }
   ],
   "source": [
    "a"
   ]
  },
  {
   "cell_type": "code",
   "execution_count": 3,
   "metadata": {},
   "outputs": [],
   "source": [
    "import pandas as pd\n",
    "import numpy as np"
   ]
  },
  {
   "cell_type": "code",
   "execution_count": 4,
   "metadata": {},
   "outputs": [],
   "source": [
    "a = np.array([[11],[8]])"
   ]
  },
  {
   "cell_type": "code",
   "execution_count": 5,
   "metadata": {},
   "outputs": [
    {
     "data": {
      "text/plain": [
       "9.5"
      ]
     },
     "execution_count": 5,
     "metadata": {},
     "output_type": "execute_result"
    }
   ],
   "source": [
    "a.mean()"
   ]
  },
  {
   "cell_type": "code",
   "execution_count": 6,
   "metadata": {},
   "outputs": [],
   "source": [
    "b = a - a.mean()"
   ]
  },
  {
   "cell_type": "code",
   "execution_count": 7,
   "metadata": {},
   "outputs": [
    {
     "data": {
      "text/plain": [
       "array([[ 1.5],\n",
       "       [-1.5]])"
      ]
     },
     "execution_count": 7,
     "metadata": {},
     "output_type": "execute_result"
    }
   ],
   "source": [
    "b"
   ]
  },
  {
   "cell_type": "code",
   "execution_count": 8,
   "metadata": {},
   "outputs": [
    {
     "data": {
      "text/plain": [
       "2.1213203435596424"
      ]
     },
     "execution_count": 8,
     "metadata": {},
     "output_type": "execute_result"
    }
   ],
   "source": [
    "c = np.linalg.norm(b) \n",
    "c"
   ]
  },
  {
   "cell_type": "code",
   "execution_count": 9,
   "metadata": {},
   "outputs": [
    {
     "data": {
      "text/plain": [
       "array([[ 0.70710678],\n",
       "       [-0.70710678]])"
      ]
     },
     "execution_count": 9,
     "metadata": {},
     "output_type": "execute_result"
    }
   ],
   "source": [
    "1/c* b"
   ]
  },
  {
   "cell_type": "code",
   "execution_count": 10,
   "metadata": {},
   "outputs": [
    {
     "data": {
      "text/plain": [
       "2.1213203435596424"
      ]
     },
     "execution_count": 10,
     "metadata": {},
     "output_type": "execute_result"
    }
   ],
   "source": [
    "(1.5**2+1.5**2)**(1/2)"
   ]
  },
  {
   "cell_type": "code",
   "execution_count": 11,
   "metadata": {},
   "outputs": [
    {
     "name": "stdout",
     "output_type": "stream",
     "text": [
      "<class 'pandas.core.frame.DataFrame'>\n",
      "RangeIndex: 500 entries, 0 to 499\n",
      "Data columns (total 9 columns):\n",
      " #   Column             Non-Null Count  Dtype  \n",
      "---  ------             --------------  -----  \n",
      " 0   Serial No.         500 non-null    int64  \n",
      " 1   GRE Score          500 non-null    int64  \n",
      " 2   TOEFL Score        500 non-null    int64  \n",
      " 3   University Rating  500 non-null    int64  \n",
      " 4   SOP                500 non-null    float64\n",
      " 5   LOR                500 non-null    float64\n",
      " 6   CGPA               500 non-null    float64\n",
      " 7   Research           500 non-null    int64  \n",
      " 8   Chance of Admit    500 non-null    float64\n",
      "dtypes: float64(4), int64(5)\n",
      "memory usage: 35.3 KB\n"
     ]
    }
   ],
   "source": [
    "import numpy as np # для работы с массивами\n",
    "import pandas as pd # для работы DataFrame \n",
    "import seaborn as sns # библиотека для визуализации статистических данных\n",
    "import matplotlib.pyplot as plt # для построения графиков\n",
    "\n",
    "%matplotlib inline\n",
    "df = pd.read_csv('./Admission_Predict_Ver1.1.csv')\n",
    "df.info()"
   ]
  },
  {
   "cell_type": "code",
   "execution_count": 12,
   "metadata": {},
   "outputs": [
    {
     "data": {
      "text/html": [
       "<div>\n",
       "<style scoped>\n",
       "    .dataframe tbody tr th:only-of-type {\n",
       "        vertical-align: middle;\n",
       "    }\n",
       "\n",
       "    .dataframe tbody tr th {\n",
       "        vertical-align: top;\n",
       "    }\n",
       "\n",
       "    .dataframe thead th {\n",
       "        text-align: right;\n",
       "    }\n",
       "</style>\n",
       "<table border=\"1\" class=\"dataframe\">\n",
       "  <thead>\n",
       "    <tr style=\"text-align: right;\">\n",
       "      <th></th>\n",
       "      <th>Serial No.</th>\n",
       "      <th>GRE Score</th>\n",
       "      <th>TOEFL Score</th>\n",
       "      <th>University Rating</th>\n",
       "      <th>SOP</th>\n",
       "      <th>LOR</th>\n",
       "      <th>CGPA</th>\n",
       "      <th>Research</th>\n",
       "      <th>Chance of Admit</th>\n",
       "    </tr>\n",
       "  </thead>\n",
       "  <tbody>\n",
       "    <tr>\n",
       "      <th>0</th>\n",
       "      <td>1</td>\n",
       "      <td>337</td>\n",
       "      <td>118</td>\n",
       "      <td>4</td>\n",
       "      <td>4.5</td>\n",
       "      <td>4.5</td>\n",
       "      <td>9.65</td>\n",
       "      <td>1</td>\n",
       "      <td>0.92</td>\n",
       "    </tr>\n",
       "    <tr>\n",
       "      <th>1</th>\n",
       "      <td>2</td>\n",
       "      <td>324</td>\n",
       "      <td>107</td>\n",
       "      <td>4</td>\n",
       "      <td>4.0</td>\n",
       "      <td>4.5</td>\n",
       "      <td>8.87</td>\n",
       "      <td>1</td>\n",
       "      <td>0.76</td>\n",
       "    </tr>\n",
       "    <tr>\n",
       "      <th>2</th>\n",
       "      <td>3</td>\n",
       "      <td>316</td>\n",
       "      <td>104</td>\n",
       "      <td>3</td>\n",
       "      <td>3.0</td>\n",
       "      <td>3.5</td>\n",
       "      <td>8.00</td>\n",
       "      <td>1</td>\n",
       "      <td>0.72</td>\n",
       "    </tr>\n",
       "    <tr>\n",
       "      <th>3</th>\n",
       "      <td>4</td>\n",
       "      <td>322</td>\n",
       "      <td>110</td>\n",
       "      <td>3</td>\n",
       "      <td>3.5</td>\n",
       "      <td>2.5</td>\n",
       "      <td>8.67</td>\n",
       "      <td>1</td>\n",
       "      <td>0.80</td>\n",
       "    </tr>\n",
       "    <tr>\n",
       "      <th>4</th>\n",
       "      <td>5</td>\n",
       "      <td>314</td>\n",
       "      <td>103</td>\n",
       "      <td>2</td>\n",
       "      <td>2.0</td>\n",
       "      <td>3.0</td>\n",
       "      <td>8.21</td>\n",
       "      <td>0</td>\n",
       "      <td>0.65</td>\n",
       "    </tr>\n",
       "  </tbody>\n",
       "</table>\n",
       "</div>"
      ],
      "text/plain": [
       "   Serial No.  GRE Score  TOEFL Score  University Rating  SOP  LOR   CGPA  \\\n",
       "0           1        337          118                  4  4.5   4.5  9.65   \n",
       "1           2        324          107                  4  4.0   4.5  8.87   \n",
       "2           3        316          104                  3  3.0   3.5  8.00   \n",
       "3           4        322          110                  3  3.5   2.5  8.67   \n",
       "4           5        314          103                  2  2.0   3.0  8.21   \n",
       "\n",
       "   Research  Chance of Admit   \n",
       "0         1              0.92  \n",
       "1         1              0.76  \n",
       "2         1              0.72  \n",
       "3         1              0.80  \n",
       "4         0              0.65  "
      ]
     },
     "execution_count": 12,
     "metadata": {},
     "output_type": "execute_result"
    }
   ],
   "source": [
    "df.head()"
   ]
  },
  {
   "cell_type": "code",
   "execution_count": 13,
   "metadata": {},
   "outputs": [],
   "source": [
    "df = df.rename(columns={'Chance of Admit ': 'Chance of Admit'}, errors=\"raise\")"
   ]
  },
  {
   "cell_type": "code",
   "execution_count": 14,
   "metadata": {},
   "outputs": [
    {
     "data": {
      "text/html": [
       "<div>\n",
       "<style scoped>\n",
       "    .dataframe tbody tr th:only-of-type {\n",
       "        vertical-align: middle;\n",
       "    }\n",
       "\n",
       "    .dataframe tbody tr th {\n",
       "        vertical-align: top;\n",
       "    }\n",
       "\n",
       "    .dataframe thead th {\n",
       "        text-align: right;\n",
       "    }\n",
       "</style>\n",
       "<table border=\"1\" class=\"dataframe\">\n",
       "  <thead>\n",
       "    <tr style=\"text-align: right;\">\n",
       "      <th></th>\n",
       "      <th>Chance of Admit</th>\n",
       "    </tr>\n",
       "  </thead>\n",
       "  <tbody>\n",
       "    <tr>\n",
       "      <th>count</th>\n",
       "      <td>500.00000</td>\n",
       "    </tr>\n",
       "    <tr>\n",
       "      <th>mean</th>\n",
       "      <td>0.72174</td>\n",
       "    </tr>\n",
       "    <tr>\n",
       "      <th>std</th>\n",
       "      <td>0.14114</td>\n",
       "    </tr>\n",
       "    <tr>\n",
       "      <th>min</th>\n",
       "      <td>0.34000</td>\n",
       "    </tr>\n",
       "    <tr>\n",
       "      <th>25%</th>\n",
       "      <td>0.63000</td>\n",
       "    </tr>\n",
       "    <tr>\n",
       "      <th>50%</th>\n",
       "      <td>0.72000</td>\n",
       "    </tr>\n",
       "    <tr>\n",
       "      <th>75%</th>\n",
       "      <td>0.82000</td>\n",
       "    </tr>\n",
       "    <tr>\n",
       "      <th>max</th>\n",
       "      <td>0.97000</td>\n",
       "    </tr>\n",
       "  </tbody>\n",
       "</table>\n",
       "</div>"
      ],
      "text/plain": [
       "       Chance of Admit\n",
       "count        500.00000\n",
       "mean           0.72174\n",
       "std            0.14114\n",
       "min            0.34000\n",
       "25%            0.63000\n",
       "50%            0.72000\n",
       "75%            0.82000\n",
       "max            0.97000"
      ]
     },
     "execution_count": 14,
     "metadata": {},
     "output_type": "execute_result"
    }
   ],
   "source": [
    "y = df[['Chance of Admit']]\n",
    "y.describe()"
   ]
  },
  {
   "cell_type": "code",
   "execution_count": 15,
   "metadata": {},
   "outputs": [
    {
     "data": {
      "text/plain": [
       "0.0008425501159777749"
      ]
     },
     "execution_count": 15,
     "metadata": {},
     "output_type": "execute_result"
    }
   ],
   "source": [
    "np.linalg.det(df.corr())"
   ]
  },
  {
   "cell_type": "code",
   "execution_count": 16,
   "metadata": {},
   "outputs": [
    {
     "data": {
      "text/html": [
       "<div>\n",
       "<style scoped>\n",
       "    .dataframe tbody tr th:only-of-type {\n",
       "        vertical-align: middle;\n",
       "    }\n",
       "\n",
       "    .dataframe tbody tr th {\n",
       "        vertical-align: top;\n",
       "    }\n",
       "\n",
       "    .dataframe thead th {\n",
       "        text-align: right;\n",
       "    }\n",
       "</style>\n",
       "<table border=\"1\" class=\"dataframe\">\n",
       "  <thead>\n",
       "    <tr style=\"text-align: right;\">\n",
       "      <th></th>\n",
       "      <th>Serial No.</th>\n",
       "      <th>GRE Score</th>\n",
       "      <th>TOEFL Score</th>\n",
       "      <th>University Rating</th>\n",
       "      <th>SOP</th>\n",
       "      <th>LOR</th>\n",
       "      <th>CGPA</th>\n",
       "      <th>Research</th>\n",
       "      <th>Chance of Admit</th>\n",
       "    </tr>\n",
       "  </thead>\n",
       "  <tbody>\n",
       "    <tr>\n",
       "      <th>Serial No.</th>\n",
       "      <td>1.000000</td>\n",
       "      <td>-0.103839</td>\n",
       "      <td>-0.141696</td>\n",
       "      <td>-0.067641</td>\n",
       "      <td>-0.137352</td>\n",
       "      <td>-0.003694</td>\n",
       "      <td>-0.074289</td>\n",
       "      <td>-0.005332</td>\n",
       "      <td>0.008505</td>\n",
       "    </tr>\n",
       "    <tr>\n",
       "      <th>GRE Score</th>\n",
       "      <td>-0.103839</td>\n",
       "      <td>1.000000</td>\n",
       "      <td>0.827200</td>\n",
       "      <td>0.635376</td>\n",
       "      <td>0.613498</td>\n",
       "      <td>0.524679</td>\n",
       "      <td>0.825878</td>\n",
       "      <td>0.563398</td>\n",
       "      <td>0.810351</td>\n",
       "    </tr>\n",
       "    <tr>\n",
       "      <th>TOEFL Score</th>\n",
       "      <td>-0.141696</td>\n",
       "      <td>0.827200</td>\n",
       "      <td>1.000000</td>\n",
       "      <td>0.649799</td>\n",
       "      <td>0.644410</td>\n",
       "      <td>0.541563</td>\n",
       "      <td>0.810574</td>\n",
       "      <td>0.467012</td>\n",
       "      <td>0.792228</td>\n",
       "    </tr>\n",
       "    <tr>\n",
       "      <th>University Rating</th>\n",
       "      <td>-0.067641</td>\n",
       "      <td>0.635376</td>\n",
       "      <td>0.649799</td>\n",
       "      <td>1.000000</td>\n",
       "      <td>0.728024</td>\n",
       "      <td>0.608651</td>\n",
       "      <td>0.705254</td>\n",
       "      <td>0.427047</td>\n",
       "      <td>0.690132</td>\n",
       "    </tr>\n",
       "    <tr>\n",
       "      <th>SOP</th>\n",
       "      <td>-0.137352</td>\n",
       "      <td>0.613498</td>\n",
       "      <td>0.644410</td>\n",
       "      <td>0.728024</td>\n",
       "      <td>1.000000</td>\n",
       "      <td>0.663707</td>\n",
       "      <td>0.712154</td>\n",
       "      <td>0.408116</td>\n",
       "      <td>0.684137</td>\n",
       "    </tr>\n",
       "    <tr>\n",
       "      <th>LOR</th>\n",
       "      <td>-0.003694</td>\n",
       "      <td>0.524679</td>\n",
       "      <td>0.541563</td>\n",
       "      <td>0.608651</td>\n",
       "      <td>0.663707</td>\n",
       "      <td>1.000000</td>\n",
       "      <td>0.637469</td>\n",
       "      <td>0.372526</td>\n",
       "      <td>0.645365</td>\n",
       "    </tr>\n",
       "    <tr>\n",
       "      <th>CGPA</th>\n",
       "      <td>-0.074289</td>\n",
       "      <td>0.825878</td>\n",
       "      <td>0.810574</td>\n",
       "      <td>0.705254</td>\n",
       "      <td>0.712154</td>\n",
       "      <td>0.637469</td>\n",
       "      <td>1.000000</td>\n",
       "      <td>0.501311</td>\n",
       "      <td>0.882413</td>\n",
       "    </tr>\n",
       "    <tr>\n",
       "      <th>Research</th>\n",
       "      <td>-0.005332</td>\n",
       "      <td>0.563398</td>\n",
       "      <td>0.467012</td>\n",
       "      <td>0.427047</td>\n",
       "      <td>0.408116</td>\n",
       "      <td>0.372526</td>\n",
       "      <td>0.501311</td>\n",
       "      <td>1.000000</td>\n",
       "      <td>0.545871</td>\n",
       "    </tr>\n",
       "    <tr>\n",
       "      <th>Chance of Admit</th>\n",
       "      <td>0.008505</td>\n",
       "      <td>0.810351</td>\n",
       "      <td>0.792228</td>\n",
       "      <td>0.690132</td>\n",
       "      <td>0.684137</td>\n",
       "      <td>0.645365</td>\n",
       "      <td>0.882413</td>\n",
       "      <td>0.545871</td>\n",
       "      <td>1.000000</td>\n",
       "    </tr>\n",
       "  </tbody>\n",
       "</table>\n",
       "</div>"
      ],
      "text/plain": [
       "                   Serial No.  GRE Score  TOEFL Score  University Rating  \\\n",
       "Serial No.           1.000000  -0.103839    -0.141696          -0.067641   \n",
       "GRE Score           -0.103839   1.000000     0.827200           0.635376   \n",
       "TOEFL Score         -0.141696   0.827200     1.000000           0.649799   \n",
       "University Rating   -0.067641   0.635376     0.649799           1.000000   \n",
       "SOP                 -0.137352   0.613498     0.644410           0.728024   \n",
       "LOR                 -0.003694   0.524679     0.541563           0.608651   \n",
       "CGPA                -0.074289   0.825878     0.810574           0.705254   \n",
       "Research            -0.005332   0.563398     0.467012           0.427047   \n",
       "Chance of Admit      0.008505   0.810351     0.792228           0.690132   \n",
       "\n",
       "                        SOP      LOR       CGPA  Research  Chance of Admit  \n",
       "Serial No.        -0.137352 -0.003694 -0.074289 -0.005332         0.008505  \n",
       "GRE Score          0.613498  0.524679  0.825878  0.563398         0.810351  \n",
       "TOEFL Score        0.644410  0.541563  0.810574  0.467012         0.792228  \n",
       "University Rating  0.728024  0.608651  0.705254  0.427047         0.690132  \n",
       "SOP                1.000000  0.663707  0.712154  0.408116         0.684137  \n",
       "LOR                0.663707  1.000000  0.637469  0.372526         0.645365  \n",
       "CGPA               0.712154  0.637469  1.000000  0.501311         0.882413  \n",
       "Research           0.408116  0.372526  0.501311  1.000000         0.545871  \n",
       "Chance of Admit    0.684137  0.645365  0.882413  0.545871         1.000000  "
      ]
     },
     "execution_count": 16,
     "metadata": {},
     "output_type": "execute_result"
    }
   ],
   "source": [
    "C = df.corr(method='pearson')\n",
    "C"
   ]
  },
  {
   "cell_type": "code",
   "execution_count": 17,
   "metadata": {},
   "outputs": [
    {
     "data": {
      "text/plain": [
       "1.0"
      ]
     },
     "execution_count": 17,
     "metadata": {},
     "output_type": "execute_result"
    }
   ],
   "source": [
    "C['Chance of Admit'].max()"
   ]
  },
  {
   "cell_type": "code",
   "execution_count": 18,
   "metadata": {},
   "outputs": [
    {
     "data": {
      "text/plain": [
       "<matplotlib.axes._subplots.AxesSubplot at 0x7f931ab86e90>"
      ]
     },
     "execution_count": 18,
     "metadata": {},
     "output_type": "execute_result"
    },
    {
     "data": {
      "image/png": "[encoded data removed]",
      "text/plain": [
       "<Figure size 1152x432 with 2 Axes>"
      ]
     },
     "metadata": {
      "needs_background": "light"
     },
     "output_type": "display_data"
    }
   ],
   "source": [
    "plt.figure(figsize=(16,6)) # размер графика\n",
    "sns.heatmap(data=C, annot=True)"
   ]
  },
  {
   "cell_type": "code",
   "execution_count": 19,
   "metadata": {},
   "outputs": [],
   "source": [
    "r0= df[df['Research'] == 0]"
   ]
  },
  {
   "cell_type": "code",
   "execution_count": 20,
   "metadata": {},
   "outputs": [
    {
     "data": {
      "text/html": [
       "<div>\n",
       "<style scoped>\n",
       "    .dataframe tbody tr th:only-of-type {\n",
       "        vertical-align: middle;\n",
       "    }\n",
       "\n",
       "    .dataframe tbody tr th {\n",
       "        vertical-align: top;\n",
       "    }\n",
       "\n",
       "    .dataframe thead th {\n",
       "        text-align: right;\n",
       "    }\n",
       "</style>\n",
       "<table border=\"1\" class=\"dataframe\">\n",
       "  <thead>\n",
       "    <tr style=\"text-align: right;\">\n",
       "      <th></th>\n",
       "      <th>Serial No.</th>\n",
       "      <th>GRE Score</th>\n",
       "      <th>TOEFL Score</th>\n",
       "      <th>University Rating</th>\n",
       "      <th>SOP</th>\n",
       "      <th>LOR</th>\n",
       "      <th>CGPA</th>\n",
       "      <th>Research</th>\n",
       "      <th>Chance of Admit</th>\n",
       "    </tr>\n",
       "  </thead>\n",
       "  <tbody>\n",
       "    <tr>\n",
       "      <th>Serial No.</th>\n",
       "      <td>1.000000</td>\n",
       "      <td>-0.165248</td>\n",
       "      <td>-0.185665</td>\n",
       "      <td>-0.093655</td>\n",
       "      <td>-0.199090</td>\n",
       "      <td>-0.018579</td>\n",
       "      <td>-0.138537</td>\n",
       "      <td>NaN</td>\n",
       "      <td>-0.002771</td>\n",
       "    </tr>\n",
       "    <tr>\n",
       "      <th>GRE Score</th>\n",
       "      <td>-0.165248</td>\n",
       "      <td>1.000000</td>\n",
       "      <td>0.680668</td>\n",
       "      <td>0.384715</td>\n",
       "      <td>0.371424</td>\n",
       "      <td>0.365864</td>\n",
       "      <td>0.678476</td>\n",
       "      <td>NaN</td>\n",
       "      <td>0.603827</td>\n",
       "    </tr>\n",
       "    <tr>\n",
       "      <th>TOEFL Score</th>\n",
       "      <td>-0.185665</td>\n",
       "      <td>0.680668</td>\n",
       "      <td>1.000000</td>\n",
       "      <td>0.495748</td>\n",
       "      <td>0.476563</td>\n",
       "      <td>0.470956</td>\n",
       "      <td>0.696774</td>\n",
       "      <td>NaN</td>\n",
       "      <td>0.622458</td>\n",
       "    </tr>\n",
       "    <tr>\n",
       "      <th>University Rating</th>\n",
       "      <td>-0.093655</td>\n",
       "      <td>0.384715</td>\n",
       "      <td>0.495748</td>\n",
       "      <td>1.000000</td>\n",
       "      <td>0.607496</td>\n",
       "      <td>0.484262</td>\n",
       "      <td>0.516427</td>\n",
       "      <td>NaN</td>\n",
       "      <td>0.428580</td>\n",
       "    </tr>\n",
       "    <tr>\n",
       "      <th>SOP</th>\n",
       "      <td>-0.199090</td>\n",
       "      <td>0.371424</td>\n",
       "      <td>0.476563</td>\n",
       "      <td>0.607496</td>\n",
       "      <td>1.000000</td>\n",
       "      <td>0.618680</td>\n",
       "      <td>0.547098</td>\n",
       "      <td>NaN</td>\n",
       "      <td>0.470188</td>\n",
       "    </tr>\n",
       "    <tr>\n",
       "      <th>LOR</th>\n",
       "      <td>-0.018579</td>\n",
       "      <td>0.365864</td>\n",
       "      <td>0.470956</td>\n",
       "      <td>0.484262</td>\n",
       "      <td>0.618680</td>\n",
       "      <td>1.000000</td>\n",
       "      <td>0.562517</td>\n",
       "      <td>NaN</td>\n",
       "      <td>0.542528</td>\n",
       "    </tr>\n",
       "    <tr>\n",
       "      <th>CGPA</th>\n",
       "      <td>-0.138537</td>\n",
       "      <td>0.678476</td>\n",
       "      <td>0.696774</td>\n",
       "      <td>0.516427</td>\n",
       "      <td>0.547098</td>\n",
       "      <td>0.562517</td>\n",
       "      <td>1.000000</td>\n",
       "      <td>NaN</td>\n",
       "      <td>0.752714</td>\n",
       "    </tr>\n",
       "    <tr>\n",
       "      <th>Research</th>\n",
       "      <td>NaN</td>\n",
       "      <td>NaN</td>\n",
       "      <td>NaN</td>\n",
       "      <td>NaN</td>\n",
       "      <td>NaN</td>\n",
       "      <td>NaN</td>\n",
       "      <td>NaN</td>\n",
       "      <td>NaN</td>\n",
       "      <td>NaN</td>\n",
       "    </tr>\n",
       "    <tr>\n",
       "      <th>Chance of Admit</th>\n",
       "      <td>-0.002771</td>\n",
       "      <td>0.603827</td>\n",
       "      <td>0.622458</td>\n",
       "      <td>0.428580</td>\n",
       "      <td>0.470188</td>\n",
       "      <td>0.542528</td>\n",
       "      <td>0.752714</td>\n",
       "      <td>NaN</td>\n",
       "      <td>1.000000</td>\n",
       "    </tr>\n",
       "  </tbody>\n",
       "</table>\n",
       "</div>"
      ],
      "text/plain": [
       "                   Serial No.  GRE Score  TOEFL Score  University Rating  \\\n",
       "Serial No.           1.000000  -0.165248    -0.185665          -0.093655   \n",
       "GRE Score           -0.165248   1.000000     0.680668           0.384715   \n",
       "TOEFL Score         -0.185665   0.680668     1.000000           0.495748   \n",
       "University Rating   -0.093655   0.384715     0.495748           1.000000   \n",
       "SOP                 -0.199090   0.371424     0.476563           0.607496   \n",
       "LOR                 -0.018579   0.365864     0.470956           0.484262   \n",
       "CGPA                -0.138537   0.678476     0.696774           0.516427   \n",
       "Research                  NaN        NaN          NaN                NaN   \n",
       "Chance of Admit     -0.002771   0.603827     0.622458           0.428580   \n",
       "\n",
       "                        SOP      LOR       CGPA  Research  Chance of Admit  \n",
       "Serial No.        -0.199090 -0.018579 -0.138537       NaN        -0.002771  \n",
       "GRE Score          0.371424  0.365864  0.678476       NaN         0.603827  \n",
       "TOEFL Score        0.476563  0.470956  0.696774       NaN         0.622458  \n",
       "University Rating  0.607496  0.484262  0.516427       NaN         0.428580  \n",
       "SOP                1.000000  0.618680  0.547098       NaN         0.470188  \n",
       "LOR                0.618680  1.000000  0.562517       NaN         0.542528  \n",
       "CGPA               0.547098  0.562517  1.000000       NaN         0.752714  \n",
       "Research                NaN       NaN       NaN       NaN              NaN  \n",
       "Chance of Admit    0.470188  0.542528  0.752714       NaN         1.000000  "
      ]
     },
     "execution_count": 20,
     "metadata": {},
     "output_type": "execute_result"
    }
   ],
   "source": [
    "r0.corr()"
   ]
  },
  {
   "cell_type": "code",
   "execution_count": 21,
   "metadata": {},
   "outputs": [],
   "source": [
    "r1= df[df['Research'] == 1]"
   ]
  },
  {
   "cell_type": "code",
   "execution_count": 22,
   "metadata": {},
   "outputs": [
    {
     "data": {
      "text/html": [
       "<div>\n",
       "<style scoped>\n",
       "    .dataframe tbody tr th:only-of-type {\n",
       "        vertical-align: middle;\n",
       "    }\n",
       "\n",
       "    .dataframe tbody tr th {\n",
       "        vertical-align: top;\n",
       "    }\n",
       "\n",
       "    .dataframe thead th {\n",
       "        text-align: right;\n",
       "    }\n",
       "</style>\n",
       "<table border=\"1\" class=\"dataframe\">\n",
       "  <thead>\n",
       "    <tr style=\"text-align: right;\">\n",
       "      <th></th>\n",
       "      <th>Serial No.</th>\n",
       "      <th>GRE Score</th>\n",
       "      <th>TOEFL Score</th>\n",
       "      <th>University Rating</th>\n",
       "      <th>SOP</th>\n",
       "      <th>LOR</th>\n",
       "      <th>CGPA</th>\n",
       "      <th>Research</th>\n",
       "      <th>Chance of Admit</th>\n",
       "    </tr>\n",
       "  </thead>\n",
       "  <tbody>\n",
       "    <tr>\n",
       "      <th>Serial No.</th>\n",
       "      <td>1.000000</td>\n",
       "      <td>-0.094895</td>\n",
       "      <td>-0.140706</td>\n",
       "      <td>-0.058624</td>\n",
       "      <td>-0.109004</td>\n",
       "      <td>0.010475</td>\n",
       "      <td>-0.049214</td>\n",
       "      <td>NaN</td>\n",
       "      <td>0.024458</td>\n",
       "    </tr>\n",
       "    <tr>\n",
       "      <th>GRE Score</th>\n",
       "      <td>-0.094895</td>\n",
       "      <td>1.000000</td>\n",
       "      <td>0.824170</td>\n",
       "      <td>0.614739</td>\n",
       "      <td>0.613318</td>\n",
       "      <td>0.443374</td>\n",
       "      <td>0.806720</td>\n",
       "      <td>NaN</td>\n",
       "      <td>0.802439</td>\n",
       "    </tr>\n",
       "    <tr>\n",
       "      <th>TOEFL Score</th>\n",
       "      <td>-0.140706</td>\n",
       "      <td>0.824170</td>\n",
       "      <td>1.000000</td>\n",
       "      <td>0.602445</td>\n",
       "      <td>0.629436</td>\n",
       "      <td>0.436199</td>\n",
       "      <td>0.784173</td>\n",
       "      <td>NaN</td>\n",
       "      <td>0.787180</td>\n",
       "    </tr>\n",
       "    <tr>\n",
       "      <th>University Rating</th>\n",
       "      <td>-0.058624</td>\n",
       "      <td>0.614739</td>\n",
       "      <td>0.602445</td>\n",
       "      <td>1.000000</td>\n",
       "      <td>0.723126</td>\n",
       "      <td>0.573881</td>\n",
       "      <td>0.692237</td>\n",
       "      <td>NaN</td>\n",
       "      <td>0.713094</td>\n",
       "    </tr>\n",
       "    <tr>\n",
       "      <th>SOP</th>\n",
       "      <td>-0.109004</td>\n",
       "      <td>0.613318</td>\n",
       "      <td>0.629436</td>\n",
       "      <td>0.723126</td>\n",
       "      <td>1.000000</td>\n",
       "      <td>0.591858</td>\n",
       "      <td>0.717750</td>\n",
       "      <td>NaN</td>\n",
       "      <td>0.708238</td>\n",
       "    </tr>\n",
       "    <tr>\n",
       "      <th>LOR</th>\n",
       "      <td>0.010475</td>\n",
       "      <td>0.443374</td>\n",
       "      <td>0.436199</td>\n",
       "      <td>0.573881</td>\n",
       "      <td>0.591858</td>\n",
       "      <td>1.000000</td>\n",
       "      <td>0.564794</td>\n",
       "      <td>NaN</td>\n",
       "      <td>0.588558</td>\n",
       "    </tr>\n",
       "    <tr>\n",
       "      <th>CGPA</th>\n",
       "      <td>-0.049214</td>\n",
       "      <td>0.806720</td>\n",
       "      <td>0.784173</td>\n",
       "      <td>0.692237</td>\n",
       "      <td>0.717750</td>\n",
       "      <td>0.564794</td>\n",
       "      <td>1.000000</td>\n",
       "      <td>NaN</td>\n",
       "      <td>0.892489</td>\n",
       "    </tr>\n",
       "    <tr>\n",
       "      <th>Research</th>\n",
       "      <td>NaN</td>\n",
       "      <td>NaN</td>\n",
       "      <td>NaN</td>\n",
       "      <td>NaN</td>\n",
       "      <td>NaN</td>\n",
       "      <td>NaN</td>\n",
       "      <td>NaN</td>\n",
       "      <td>NaN</td>\n",
       "      <td>NaN</td>\n",
       "    </tr>\n",
       "    <tr>\n",
       "      <th>Chance of Admit</th>\n",
       "      <td>0.024458</td>\n",
       "      <td>0.802439</td>\n",
       "      <td>0.787180</td>\n",
       "      <td>0.713094</td>\n",
       "      <td>0.708238</td>\n",
       "      <td>0.588558</td>\n",
       "      <td>0.892489</td>\n",
       "      <td>NaN</td>\n",
       "      <td>1.000000</td>\n",
       "    </tr>\n",
       "  </tbody>\n",
       "</table>\n",
       "</div>"
      ],
      "text/plain": [
       "                   Serial No.  GRE Score  TOEFL Score  University Rating  \\\n",
       "Serial No.           1.000000  -0.094895    -0.140706          -0.058624   \n",
       "GRE Score           -0.094895   1.000000     0.824170           0.614739   \n",
       "TOEFL Score         -0.140706   0.824170     1.000000           0.602445   \n",
       "University Rating   -0.058624   0.614739     0.602445           1.000000   \n",
       "SOP                 -0.109004   0.613318     0.629436           0.723126   \n",
       "LOR                  0.010475   0.443374     0.436199           0.573881   \n",
       "CGPA                -0.049214   0.806720     0.784173           0.692237   \n",
       "Research                  NaN        NaN          NaN                NaN   \n",
       "Chance of Admit      0.024458   0.802439     0.787180           0.713094   \n",
       "\n",
       "                        SOP      LOR       CGPA  Research  Chance of Admit  \n",
       "Serial No.        -0.109004  0.010475 -0.049214       NaN         0.024458  \n",
       "GRE Score          0.613318  0.443374  0.806720       NaN         0.802439  \n",
       "TOEFL Score        0.629436  0.436199  0.784173       NaN         0.787180  \n",
       "University Rating  0.723126  0.573881  0.692237       NaN         0.713094  \n",
       "SOP                1.000000  0.591858  0.717750       NaN         0.708238  \n",
       "LOR                0.591858  1.000000  0.564794       NaN         0.588558  \n",
       "CGPA               0.717750  0.564794  1.000000       NaN         0.892489  \n",
       "Research                NaN       NaN       NaN       NaN              NaN  \n",
       "Chance of Admit    0.708238  0.588558  0.892489       NaN         1.000000  "
      ]
     },
     "execution_count": 22,
     "metadata": {},
     "output_type": "execute_result"
    }
   ],
   "source": [
    "r1.corr()"
   ]
  },
  {
   "cell_type": "code",
   "execution_count": 23,
   "metadata": {},
   "outputs": [
    {
     "data": {
      "text/html": [
       "<div>\n",
       "<style scoped>\n",
       "    .dataframe tbody tr th:only-of-type {\n",
       "        vertical-align: middle;\n",
       "    }\n",
       "\n",
       "    .dataframe tbody tr th {\n",
       "        vertical-align: top;\n",
       "    }\n",
       "\n",
       "    .dataframe thead th {\n",
       "        text-align: right;\n",
       "    }\n",
       "</style>\n",
       "<table border=\"1\" class=\"dataframe\">\n",
       "  <thead>\n",
       "    <tr style=\"text-align: right;\">\n",
       "      <th></th>\n",
       "      <th>Serial No.</th>\n",
       "      <th>GRE Score</th>\n",
       "      <th>TOEFL Score</th>\n",
       "      <th>University Rating</th>\n",
       "      <th>SOP</th>\n",
       "      <th>LOR</th>\n",
       "      <th>CGPA</th>\n",
       "      <th>Research</th>\n",
       "      <th>Chance of Admit</th>\n",
       "    </tr>\n",
       "  </thead>\n",
       "  <tbody>\n",
       "    <tr>\n",
       "      <th>Serial No.</th>\n",
       "      <td>1.000000</td>\n",
       "      <td>-0.165248</td>\n",
       "      <td>-0.185665</td>\n",
       "      <td>-0.093655</td>\n",
       "      <td>-0.199090</td>\n",
       "      <td>-0.018579</td>\n",
       "      <td>-0.138537</td>\n",
       "      <td>NaN</td>\n",
       "      <td>-0.002771</td>\n",
       "    </tr>\n",
       "    <tr>\n",
       "      <th>GRE Score</th>\n",
       "      <td>-0.165248</td>\n",
       "      <td>1.000000</td>\n",
       "      <td>0.680668</td>\n",
       "      <td>0.384715</td>\n",
       "      <td>0.371424</td>\n",
       "      <td>0.365864</td>\n",
       "      <td>0.678476</td>\n",
       "      <td>NaN</td>\n",
       "      <td>0.603827</td>\n",
       "    </tr>\n",
       "    <tr>\n",
       "      <th>TOEFL Score</th>\n",
       "      <td>-0.185665</td>\n",
       "      <td>0.680668</td>\n",
       "      <td>1.000000</td>\n",
       "      <td>0.495748</td>\n",
       "      <td>0.476563</td>\n",
       "      <td>0.470956</td>\n",
       "      <td>0.696774</td>\n",
       "      <td>NaN</td>\n",
       "      <td>0.622458</td>\n",
       "    </tr>\n",
       "    <tr>\n",
       "      <th>University Rating</th>\n",
       "      <td>-0.093655</td>\n",
       "      <td>0.384715</td>\n",
       "      <td>0.495748</td>\n",
       "      <td>1.000000</td>\n",
       "      <td>0.607496</td>\n",
       "      <td>0.484262</td>\n",
       "      <td>0.516427</td>\n",
       "      <td>NaN</td>\n",
       "      <td>0.428580</td>\n",
       "    </tr>\n",
       "    <tr>\n",
       "      <th>SOP</th>\n",
       "      <td>-0.199090</td>\n",
       "      <td>0.371424</td>\n",
       "      <td>0.476563</td>\n",
       "      <td>0.607496</td>\n",
       "      <td>1.000000</td>\n",
       "      <td>0.618680</td>\n",
       "      <td>0.547098</td>\n",
       "      <td>NaN</td>\n",
       "      <td>0.470188</td>\n",
       "    </tr>\n",
       "    <tr>\n",
       "      <th>LOR</th>\n",
       "      <td>-0.018579</td>\n",
       "      <td>0.365864</td>\n",
       "      <td>0.470956</td>\n",
       "      <td>0.484262</td>\n",
       "      <td>0.618680</td>\n",
       "      <td>1.000000</td>\n",
       "      <td>0.562517</td>\n",
       "      <td>NaN</td>\n",
       "      <td>0.542528</td>\n",
       "    </tr>\n",
       "    <tr>\n",
       "      <th>CGPA</th>\n",
       "      <td>-0.138537</td>\n",
       "      <td>0.678476</td>\n",
       "      <td>0.696774</td>\n",
       "      <td>0.516427</td>\n",
       "      <td>0.547098</td>\n",
       "      <td>0.562517</td>\n",
       "      <td>1.000000</td>\n",
       "      <td>NaN</td>\n",
       "      <td>0.752714</td>\n",
       "    </tr>\n",
       "    <tr>\n",
       "      <th>Research</th>\n",
       "      <td>NaN</td>\n",
       "      <td>NaN</td>\n",
       "      <td>NaN</td>\n",
       "      <td>NaN</td>\n",
       "      <td>NaN</td>\n",
       "      <td>NaN</td>\n",
       "      <td>NaN</td>\n",
       "      <td>NaN</td>\n",
       "      <td>NaN</td>\n",
       "    </tr>\n",
       "    <tr>\n",
       "      <th>Chance of Admit</th>\n",
       "      <td>-0.002771</td>\n",
       "      <td>0.603827</td>\n",
       "      <td>0.622458</td>\n",
       "      <td>0.428580</td>\n",
       "      <td>0.470188</td>\n",
       "      <td>0.542528</td>\n",
       "      <td>0.752714</td>\n",
       "      <td>NaN</td>\n",
       "      <td>1.000000</td>\n",
       "    </tr>\n",
       "  </tbody>\n",
       "</table>\n",
       "</div>"
      ],
      "text/plain": [
       "                   Serial No.  GRE Score  TOEFL Score  University Rating  \\\n",
       "Serial No.           1.000000  -0.165248    -0.185665          -0.093655   \n",
       "GRE Score           -0.165248   1.000000     0.680668           0.384715   \n",
       "TOEFL Score         -0.185665   0.680668     1.000000           0.495748   \n",
       "University Rating   -0.093655   0.384715     0.495748           1.000000   \n",
       "SOP                 -0.199090   0.371424     0.476563           0.607496   \n",
       "LOR                 -0.018579   0.365864     0.470956           0.484262   \n",
       "CGPA                -0.138537   0.678476     0.696774           0.516427   \n",
       "Research                  NaN        NaN          NaN                NaN   \n",
       "Chance of Admit     -0.002771   0.603827     0.622458           0.428580   \n",
       "\n",
       "                        SOP      LOR       CGPA  Research  Chance of Admit  \n",
       "Serial No.        -0.199090 -0.018579 -0.138537       NaN        -0.002771  \n",
       "GRE Score          0.371424  0.365864  0.678476       NaN         0.603827  \n",
       "TOEFL Score        0.476563  0.470956  0.696774       NaN         0.622458  \n",
       "University Rating  0.607496  0.484262  0.516427       NaN         0.428580  \n",
       "SOP                1.000000  0.618680  0.547098       NaN         0.470188  \n",
       "LOR                0.618680  1.000000  0.562517       NaN         0.542528  \n",
       "CGPA               0.547098  0.562517  1.000000       NaN         0.752714  \n",
       "Research                NaN       NaN       NaN       NaN              NaN  \n",
       "Chance of Admit    0.470188  0.542528  0.752714       NaN         1.000000  "
      ]
     },
     "execution_count": 23,
     "metadata": {},
     "output_type": "execute_result"
    }
   ],
   "source": [
    "r0.corr()"
   ]
  },
  {
   "cell_type": "code",
   "execution_count": 24,
   "metadata": {},
   "outputs": [
    {
     "name": "stdout",
     "output_type": "stream",
     "text": [
      "<class 'pandas.core.frame.DataFrame'>\n",
      "Int64Index: 220 entries, 4 to 499\n",
      "Data columns (total 9 columns):\n",
      " #   Column             Non-Null Count  Dtype  \n",
      "---  ------             --------------  -----  \n",
      " 0   Serial No.         220 non-null    int64  \n",
      " 1   GRE Score          220 non-null    int64  \n",
      " 2   TOEFL Score        220 non-null    int64  \n",
      " 3   University Rating  220 non-null    int64  \n",
      " 4   SOP                220 non-null    float64\n",
      " 5   LOR                220 non-null    float64\n",
      " 6   CGPA               220 non-null    float64\n",
      " 7   Research           220 non-null    int64  \n",
      " 8   Chance of Admit    220 non-null    float64\n",
      "dtypes: float64(4), int64(5)\n",
      "memory usage: 17.2 KB\n"
     ]
    }
   ],
   "source": [
    "r0.info()"
   ]
  },
  {
   "cell_type": "code",
   "execution_count": 25,
   "metadata": {},
   "outputs": [
    {
     "data": {
      "text/plain": [
       "array([[  1.  , 103.  ,   8.21],\n",
       "       [  1.  , 101.  ,   7.9 ],\n",
       "       [  1.  , 102.  ,   8.  ],\n",
       "       [  1.  , 108.  ,   8.6 ],\n",
       "       [  1.  , 105.  ,   8.3 ],\n",
       "       [  1.  , 107.  ,   8.7 ],\n",
       "       [  1.  , 110.  ,   8.8 ],\n",
       "       [  1.  , 102.  ,   8.5 ],\n",
       "       [  1.  , 114.  ,   8.4 ],\n",
       "       [  1.  , 109.  ,   8.8 ],\n",
       "       [  1.  ,  93.  ,   7.2 ],\n",
       "       [  1.  ,  99.  ,   7.3 ],\n",
       "       [  1.  , 106.  ,   8.4 ],\n",
       "       [  1.  , 105.  ,   7.8 ],\n",
       "       [  1.  , 105.  ,   7.5 ],\n",
       "       [  1.  , 108.  ,   7.7 ],\n",
       "       [  1.  , 117.  ,   9.1 ],\n",
       "       [  1.  , 119.  ,   9.7 ],\n",
       "       [  1.  , 110.  ,   8.  ],\n",
       "       [  1.  , 103.  ,   7.7 ],\n",
       "       [  1.  , 102.  ,   7.4 ],\n",
       "       [  1.  ,  99.  ,   7.6 ],\n",
       "       [  1.  , 104.  ,   8.3 ],\n",
       "       [  1.  , 100.  ,   8.1 ],\n",
       "       [  1.  , 101.  ,   8.2 ],\n",
       "       [  1.  , 111.  ,   8.7 ],\n",
       "       [  1.  , 112.  ,   8.92],\n",
       "       [  1.  , 114.  ,   9.02],\n",
       "       [  1.  , 106.  ,   8.9 ],\n",
       "       [  1.  ,  99.  ,   8.22],\n",
       "       [  1.  ,  93.  ,   7.36],\n",
       "       [  1.  , 103.  ,   8.66],\n",
       "       [  1.  , 106.  ,   8.42],\n",
       "       [  1.  , 107.  ,   8.28],\n",
       "       [  1.  , 108.  ,   8.14],\n",
       "       [  1.  ,  97.  ,   7.66],\n",
       "       [  1.  ,  98.  ,   8.03],\n",
       "       [  1.  ,  99.  ,   7.66],\n",
       "       [  1.  , 100.  ,   7.84],\n",
       "       [  1.  , 100.  ,   8.  ],\n",
       "       [  1.  , 105.  ,   8.12],\n",
       "       [  1.  , 106.  ,   8.25],\n",
       "       [  1.  , 104.  ,   8.47],\n",
       "       [  1.  , 103.  ,   8.64],\n",
       "       [  1.  , 108.  ,   8.48],\n",
       "       [  1.  , 110.  ,   8.56],\n",
       "       [  1.  , 102.  ,   8.62],\n",
       "       [  1.  , 104.  ,   7.46],\n",
       "       [  1.  ,  99.  ,   7.28],\n",
       "       [  1.  , 106.  ,   8.36],\n",
       "       [  1.  , 108.  ,   8.22],\n",
       "       [  1.  , 106.  ,   8.47],\n",
       "       [  1.  , 105.  ,   8.65],\n",
       "       [  1.  , 105.  ,   8.56],\n",
       "       [  1.  , 112.  ,   8.78],\n",
       "       [  1.  , 103.  ,   8.45],\n",
       "       [  1.  , 109.  ,   9.12],\n",
       "       [  1.  , 105.  ,   8.48],\n",
       "       [  1.  , 105.  ,   8.75],\n",
       "       [  1.  , 108.  ,   8.89],\n",
       "       [  1.  , 109.  ,   8.69],\n",
       "       [  1.  , 105.  ,   8.34],\n",
       "       [  1.  , 104.  ,   8.26],\n",
       "       [  1.  , 106.  ,   8.14],\n",
       "       [  1.  , 100.  ,   7.9 ],\n",
       "       [  1.  , 103.  ,   7.86],\n",
       "       [  1.  ,  99.  ,   7.46],\n",
       "       [  1.  , 109.  ,   8.5 ],\n",
       "       [  1.  , 105.  ,   8.56],\n",
       "       [  1.  , 110.  ,   8.97],\n",
       "       [  1.  , 102.  ,   8.33],\n",
       "       [  1.  , 102.  ,   8.27],\n",
       "       [  1.  ,  99.  ,   7.98],\n",
       "       [  1.  , 110.  ,   9.04],\n",
       "       [  1.  , 108.  ,   8.12],\n",
       "       [  1.  , 102.  ,   8.27],\n",
       "       [  1.  , 104.  ,   8.16],\n",
       "       [  1.  , 107.  ,   8.42],\n",
       "       [  1.  , 100.  ,   7.88],\n",
       "       [  1.  , 110.  ,   8.8 ],\n",
       "       [  1.  , 106.  ,   8.32],\n",
       "       [  1.  , 109.  ,   8.76],\n",
       "       [  1.  , 105.  ,   8.26],\n",
       "       [  1.  , 106.  ,   8.33],\n",
       "       [  1.  , 104.  ,   8.43],\n",
       "       [  1.  , 107.  ,   8.69],\n",
       "       [  1.  , 105.  ,   8.54],\n",
       "       [  1.  ,  99.  ,   7.65],\n",
       "       [  1.  ,  99.  ,   7.89],\n",
       "       [  1.  , 106.  ,   8.16],\n",
       "       [  1.  , 104.  ,   8.42],\n",
       "       [  1.  , 103.  ,   8.75],\n",
       "       [  1.  , 110.  ,   8.56],\n",
       "       [  1.  , 113.  ,   8.79],\n",
       "       [  1.  , 109.  ,   8.45],\n",
       "       [  1.  , 105.  ,   8.23],\n",
       "       [  1.  ,  99.  ,   8.03],\n",
       "       [  1.  , 110.  ,   8.45],\n",
       "       [  1.  , 110.  ,   8.53],\n",
       "       [  1.  , 112.  ,   8.67],\n",
       "       [  1.  , 104.  ,   8.65],\n",
       "       [  1.  , 107.  ,   8.27],\n",
       "       [  1.  , 100.  ,   8.07],\n",
       "       [  1.  , 104.  ,   8.37],\n",
       "       [  1.  , 100.  ,   7.89],\n",
       "       [  1.  , 101.  ,   7.68],\n",
       "       [  1.  , 103.  ,   8.15],\n",
       "       [  1.  , 107.  ,   8.56],\n",
       "       [  1.  , 105.  ,   8.73],\n",
       "       [  1.  , 104.  ,   8.48],\n",
       "       [  1.  ,  99.  ,   9.  ],\n",
       "       [  1.  , 114.  ,   9.12],\n",
       "       [  1.  , 110.  ,   8.37],\n",
       "       [  1.  ,  99.  ,   8.56],\n",
       "       [  1.  , 104.  ,   8.09],\n",
       "       [  1.  , 102.  ,   8.68],\n",
       "       [  1.  , 105.  ,   8.45],\n",
       "       [  1.  , 113.  ,   9.14],\n",
       "       [  1.  , 108.  ,   8.34],\n",
       "       [  1.  ,  96.  ,   7.86],\n",
       "       [  1.  ,  95.  ,   7.64],\n",
       "       [  1.  , 100.  ,   7.95],\n",
       "       [  1.  , 101.  ,   8.62],\n",
       "       [  1.  , 103.  ,   8.49],\n",
       "       [  1.  , 102.  ,   8.73],\n",
       "       [  1.  , 104.  ,   9.02],\n",
       "       [  1.  , 109.  ,   9.  ],\n",
       "       [  1.  , 105.  ,   7.65],\n",
       "       [  1.  , 102.  ,   7.87],\n",
       "       [  1.  ,  99.  ,   7.97],\n",
       "       [  1.  , 100.  ,   8.57],\n",
       "       [  1.  , 107.  ,   8.67],\n",
       "       [  1.  , 120.  ,   9.11],\n",
       "       [  1.  , 112.  ,   8.65],\n",
       "       [  1.  , 106.  ,   8.  ],\n",
       "       [  1.  , 108.  ,   8.76],\n",
       "       [  1.  , 106.  ,   8.43],\n",
       "       [  1.  , 108.  ,   8.53],\n",
       "       [  1.  , 110.  ,   8.6 ],\n",
       "       [  1.  , 100.  ,   8.04],\n",
       "       [  1.  , 105.  ,   8.13],\n",
       "       [  1.  , 104.  ,   8.07],\n",
       "       [  1.  , 101.  ,   7.86],\n",
       "       [  1.  ,  99.  ,   8.01],\n",
       "       [  1.  , 107.  ,   8.27],\n",
       "       [  1.  , 102.  ,   8.18],\n",
       "       [  1.  , 104.  ,   8.33],\n",
       "       [  1.  , 100.  ,   8.02],\n",
       "       [  1.  , 101.  ,   7.86],\n",
       "       [  1.  ,  96.  ,   7.89],\n",
       "       [  1.  , 110.  ,   8.79],\n",
       "       [  1.  , 106.  ,   8.24],\n",
       "       [  1.  , 103.  ,   8.13],\n",
       "       [  1.  ,  96.  ,   7.34],\n",
       "       [  1.  ,  98.  ,   7.43],\n",
       "       [  1.  ,  97.  ,   7.64],\n",
       "       [  1.  ,  94.  ,   7.34],\n",
       "       [  1.  ,  99.  ,   7.25],\n",
       "       [  1.  , 101.  ,   8.04],\n",
       "       [  1.  , 102.  ,   8.17],\n",
       "       [  1.  ,  98.  ,   7.67],\n",
       "       [  1.  , 106.  ,   8.12],\n",
       "       [  1.  , 105.  ,   7.64],\n",
       "       [  1.  , 107.  ,   8.44],\n",
       "       [  1.  , 103.  ,   8.36],\n",
       "       [  1.  ,  98.  ,   7.46],\n",
       "       [  1.  ,  92.  ,   7.88],\n",
       "       [  1.  , 103.  ,   8.24],\n",
       "       [  1.  , 105.  ,   7.65],\n",
       "       [  1.  , 101.  ,   7.66],\n",
       "       [  1.  ,  96.  ,   7.43],\n",
       "       [  1.  , 100.  ,   7.56],\n",
       "       [  1.  ,  98.  ,   7.65],\n",
       "       [  1.  , 100.  ,   8.26],\n",
       "       [  1.  , 101.  ,   7.96],\n",
       "       [  1.  , 105.  ,   8.1 ],\n",
       "       [  1.  ,  97.  ,   7.8 ],\n",
       "       [  1.  , 102.  ,   8.24],\n",
       "       [  1.  , 106.  ,   8.65],\n",
       "       [  1.  , 104.  ,   8.76],\n",
       "       [  1.  , 103.  ,   8.78],\n",
       "       [  1.  , 100.  ,   8.22],\n",
       "       [  1.  , 105.  ,   8.34],\n",
       "       [  1.  ,  99.  ,   7.45],\n",
       "       [  1.  ,  98.  ,   8.02],\n",
       "       [  1.  ,  96.  ,   7.56],\n",
       "       [  1.  ,  94.  ,   8.13],\n",
       "       [  1.  , 104.  ,   8.1 ],\n",
       "       [  1.  , 103.  ,   7.68],\n",
       "       [  1.  , 111.  ,   8.03],\n",
       "       [  1.  , 100.  ,   7.42],\n",
       "       [  1.  , 106.  ,   8.57],\n",
       "       [  1.  , 103.  ,   8.74],\n",
       "       [  1.  , 111.  ,   8.54],\n",
       "       [  1.  , 103.  ,   8.21],\n",
       "       [  1.  , 105.  ,   7.68],\n",
       "       [  1.  , 105.  ,   8.46],\n",
       "       [  1.  , 104.  ,   7.79],\n",
       "       [  1.  , 109.  ,   9.02],\n",
       "       [  1.  , 101.  ,   9.13],\n",
       "       [  1.  , 105.  ,   8.01],\n",
       "       [  1.  , 102.  ,   7.64],\n",
       "       [  1.  , 100.  ,   7.88],\n",
       "       [  1.  ,  99.  ,   7.57],\n",
       "       [  1.  , 105.  ,   7.94],\n",
       "       [  1.  , 107.  ,   7.86],\n",
       "       [  1.  ,  97.  ,   7.21],\n",
       "       [  1.  ,  96.  ,   8.26],\n",
       "       [  1.  , 103.  ,   8.09],\n",
       "       [  1.  , 102.  ,   8.15],\n",
       "       [  1.  , 101.  ,   7.88],\n",
       "       [  1.  , 104.  ,   8.12],\n",
       "       [  1.  , 105.  ,   8.18],\n",
       "       [  1.  , 103.  ,   7.92],\n",
       "       [  1.  , 102.  ,   8.37],\n",
       "       [  1.  , 115.  ,   9.14],\n",
       "       [  1.  , 110.  ,   8.5 ],\n",
       "       [  1.  ,  99.  ,   7.81],\n",
       "       [  1.  , 103.  ,   8.43],\n",
       "       [  1.  , 113.  ,   9.04]])"
      ]
     },
     "execution_count": 25,
     "metadata": {},
     "output_type": "execute_result"
    }
   ],
   "source": [
    "A= np.column_stack((np.ones(220), r0['TOEFL Score'],r0.CGPA))\n",
    "np.set_printoptions(suppress=True)\n",
    "A"
   ]
  },
  {
   "cell_type": "code",
   "execution_count": 26,
   "metadata": {},
   "outputs": [
    {
     "data": {
      "text/plain": [
       "(array([-1.04486443,  0.00442727,  0.14807744]),\n",
       " array([1.13772786]),\n",
       " 3,\n",
       " array([1548.98055048,    5.02503482,    0.67532963]))"
      ]
     },
     "execution_count": 26,
     "metadata": {},
     "output_type": "execute_result"
    }
   ],
   "source": [
    "q = np.linalg.lstsq(A,r0['Chance of Admit'],rcond=None)\n",
    "q"
   ]
  },
  {
   "cell_type": "code",
   "execution_count": 27,
   "metadata": {},
   "outputs": [],
   "source": [
    "q = np.array(q[0])"
   ]
  },
  {
   "cell_type": "code",
   "execution_count": 28,
   "metadata": {},
   "outputs": [
    {
     "data": {
      "text/plain": [
       "0.7763585301806972"
      ]
     },
     "execution_count": 28,
     "metadata": {},
     "output_type": "execute_result"
    }
   ],
   "source": [
    "new = np.array([1, 107, 9.1])\n",
    "\n",
    "new@q.T"
   ]
  },
  {
   "cell_type": "code",
   "execution_count": 29,
   "metadata": {},
   "outputs": [
    {
     "data": {
      "text/plain": [
       "0.8367999999999999"
      ]
     },
     "execution_count": 29,
     "metadata": {},
     "output_type": "execute_result"
    }
   ],
   "source": [
    "w = np.array([-1.045, 0.005, 0.148])\n",
    "new@w"
   ]
  },
  {
   "cell_type": "code",
   "execution_count": 30,
   "metadata": {},
   "outputs": [
    {
     "data": {
      "text/plain": [
       "array([[-0.00064175, -0.00020212],\n",
       "       [-0.00193702, -0.0027361 ],\n",
       "       [-0.00128938, -0.00191869],\n",
       "       [ 0.00259643,  0.00298578],\n",
       "       [ 0.00065352,  0.00053355],\n",
       "       [ 0.00194879,  0.00380319],\n",
       "       [ 0.0038917 ,  0.0046206 ],\n",
       "       [-0.00128938,  0.00216837],\n",
       "       [ 0.00648224,  0.00135096],\n",
       "       [ 0.00324406,  0.0046206 ],\n",
       "       [-0.0071181 , -0.00845798],\n",
       "       [-0.00323229, -0.00764056],\n",
       "       [ 0.00130116,  0.00135096],\n",
       "       [ 0.00065352, -0.00355351],\n",
       "       [ 0.00065352, -0.00600574],\n",
       "       [ 0.00259643, -0.00437092],\n",
       "       [ 0.00842515,  0.00707284],\n",
       "       [ 0.00972042,  0.0119773 ],\n",
       "       [ 0.0038917 , -0.00191869],\n",
       "       [-0.00064175, -0.00437092],\n",
       "       [-0.00128938, -0.00682315],\n",
       "       [-0.00323229, -0.00518833],\n",
       "       [ 0.00000589,  0.00053355],\n",
       "       [-0.00258465, -0.00110128],\n",
       "       [-0.00193702, -0.00028386],\n",
       "       [ 0.00453933,  0.00380319],\n",
       "       [ 0.00518697,  0.0056015 ],\n",
       "       [ 0.00648224,  0.00641891],\n",
       "       [ 0.00130116,  0.00543801],\n",
       "       [-0.00323229, -0.00012038],\n",
       "       [-0.0071181 , -0.00715012],\n",
       "       [-0.00064175,  0.00347623],\n",
       "       [ 0.00130116,  0.00151444],\n",
       "       [ 0.00194879,  0.00037006],\n",
       "       [ 0.00259643, -0.00077431],\n",
       "       [-0.00452756, -0.00469788],\n",
       "       [-0.00387992, -0.00167346],\n",
       "       [-0.00323229, -0.00469788],\n",
       "       [-0.00258465, -0.00322654],\n",
       "       [-0.00258465, -0.00191869],\n",
       "       [ 0.00065352, -0.00093779],\n",
       "       [ 0.00130116,  0.00012484],\n",
       "       [ 0.00000589,  0.00192315],\n",
       "       [-0.00064175,  0.00331274],\n",
       "       [ 0.00259643,  0.00200489],\n",
       "       [ 0.0038917 ,  0.00265882],\n",
       "       [-0.00128938,  0.00314926],\n",
       "       [ 0.00000589, -0.00633271],\n",
       "       [-0.00323229, -0.00780405],\n",
       "       [ 0.00130116,  0.00102399],\n",
       "       [ 0.00259643, -0.00012038],\n",
       "       [ 0.00130116,  0.00192315],\n",
       "       [ 0.00065352,  0.00339449],\n",
       "       [ 0.00065352,  0.00265882],\n",
       "       [ 0.00518697,  0.00445712],\n",
       "       [-0.00064175,  0.00175966],\n",
       "       [ 0.00324406,  0.00723632],\n",
       "       [ 0.00065352,  0.00200489],\n",
       "       [ 0.00065352,  0.0042119 ],\n",
       "       [ 0.00259643,  0.00535627],\n",
       "       [ 0.00324406,  0.00372145],\n",
       "       [ 0.00065352,  0.00086051],\n",
       "       [ 0.00000589,  0.00020658],\n",
       "       [ 0.00130116, -0.00077431],\n",
       "       [-0.00258465, -0.0027361 ],\n",
       "       [-0.00064175, -0.00306306],\n",
       "       [-0.00323229, -0.00633271],\n",
       "       [ 0.00324406,  0.00216837],\n",
       "       [ 0.00065352,  0.00265882],\n",
       "       [ 0.0038917 ,  0.0060102 ],\n",
       "       [-0.00128938,  0.00077877],\n",
       "       [-0.00128938,  0.00028832],\n",
       "       [-0.00323229, -0.00208217],\n",
       "       [ 0.0038917 ,  0.00658239],\n",
       "       [ 0.00259643, -0.00093779],\n",
       "       [-0.00128938,  0.00028832],\n",
       "       [ 0.00000589, -0.00061083],\n",
       "       [ 0.00194879,  0.00151444],\n",
       "       [-0.00258465, -0.00289958],\n",
       "       [ 0.0038917 ,  0.0046206 ],\n",
       "       [ 0.00130116,  0.00069703],\n",
       "       [ 0.00324406,  0.00429364],\n",
       "       [ 0.00065352,  0.00020658],\n",
       "       [ 0.00130116,  0.00077877],\n",
       "       [ 0.00000589,  0.00159618],\n",
       "       [ 0.00194879,  0.00372145],\n",
       "       [ 0.00065352,  0.00249533],\n",
       "       [-0.00323229, -0.00477963],\n",
       "       [-0.00323229, -0.00281784],\n",
       "       [ 0.00130116, -0.00061083],\n",
       "       [ 0.00000589,  0.00151444],\n",
       "       [-0.00064175,  0.0042119 ],\n",
       "       [ 0.0038917 ,  0.00265882],\n",
       "       [ 0.0058346 ,  0.00453886],\n",
       "       [ 0.00324406,  0.00175966],\n",
       "       [ 0.00065352, -0.00003864],\n",
       "       [-0.00323229, -0.00167346],\n",
       "       [ 0.0038917 ,  0.00175966],\n",
       "       [ 0.0038917 ,  0.00241359],\n",
       "       [ 0.00518697,  0.00355797],\n",
       "       [ 0.00000589,  0.00339449],\n",
       "       [ 0.00194879,  0.00028832],\n",
       "       [-0.00258465, -0.0013465 ],\n",
       "       [ 0.00000589,  0.00110573],\n",
       "       [-0.00258465, -0.00281784],\n",
       "       [-0.00193702, -0.0045344 ],\n",
       "       [-0.00064175, -0.00069257],\n",
       "       [ 0.00194879,  0.00265882],\n",
       "       [ 0.00065352,  0.00404841],\n",
       "       [ 0.00000589,  0.00200489],\n",
       "       [-0.00323229,  0.00625542],\n",
       "       [ 0.00648224,  0.00723632],\n",
       "       [ 0.0038917 ,  0.00110573],\n",
       "       [-0.00323229,  0.00265882],\n",
       "       [ 0.00000589, -0.00118302],\n",
       "       [-0.00128938,  0.00363971],\n",
       "       [ 0.00065352,  0.00175966],\n",
       "       [ 0.0058346 ,  0.0073998 ],\n",
       "       [ 0.00259643,  0.00086051],\n",
       "       [-0.00517519, -0.00306306],\n",
       "       [-0.00582283, -0.00486137],\n",
       "       [-0.00258465, -0.00232739],\n",
       "       [-0.00193702,  0.00314926],\n",
       "       [-0.00064175,  0.00208663],\n",
       "       [-0.00128938,  0.00404841],\n",
       "       [ 0.00000589,  0.00641891],\n",
       "       [ 0.00324406,  0.00625542],\n",
       "       [ 0.00065352, -0.00477963],\n",
       "       [-0.00128938, -0.00298132],\n",
       "       [-0.00323229, -0.00216391],\n",
       "       [-0.00258465,  0.00274056],\n",
       "       [ 0.00194879,  0.00355797],\n",
       "       [ 0.01036805,  0.00715458],\n",
       "       [ 0.00518697,  0.00339449],\n",
       "       [ 0.00130116, -0.00191869],\n",
       "       [ 0.00259643,  0.00429364],\n",
       "       [ 0.00130116,  0.00159618],\n",
       "       [ 0.00259643,  0.00241359],\n",
       "       [ 0.0038917 ,  0.00298578],\n",
       "       [-0.00258465, -0.00159172],\n",
       "       [ 0.00065352, -0.00085605],\n",
       "       [ 0.00000589, -0.0013465 ],\n",
       "       [-0.00193702, -0.00306306],\n",
       "       [-0.00323229, -0.00183695],\n",
       "       [ 0.00194879,  0.00028832],\n",
       "       [-0.00128938, -0.00044735],\n",
       "       [ 0.00000589,  0.00077877],\n",
       "       [-0.00258465, -0.0017552 ],\n",
       "       [-0.00193702, -0.00306306],\n",
       "       [-0.00517519, -0.00281784],\n",
       "       [ 0.0038917 ,  0.00453886],\n",
       "       [ 0.00130116,  0.0000431 ],\n",
       "       [-0.00064175, -0.00085605],\n",
       "       [-0.00517519, -0.0073136 ],\n",
       "       [-0.00387992, -0.00657793],\n",
       "       [-0.00452756, -0.00486137],\n",
       "       [-0.00647046, -0.0073136 ],\n",
       "       [-0.00323229, -0.00804927],\n",
       "       [-0.00193702, -0.00159172],\n",
       "       [-0.00128938, -0.00052909],\n",
       "       [-0.00387992, -0.00461614],\n",
       "       [ 0.00130116, -0.00093779],\n",
       "       [ 0.00065352, -0.00486137],\n",
       "       [ 0.00194879,  0.00167792],\n",
       "       [-0.00064175,  0.00102399],\n",
       "       [-0.00387992, -0.00633271],\n",
       "       [-0.00776574, -0.00289958],\n",
       "       [-0.00064175,  0.0000431 ],\n",
       "       [ 0.00065352, -0.00477963],\n",
       "       [-0.00193702, -0.00469788],\n",
       "       [-0.00517519, -0.00657793],\n",
       "       [-0.00258465, -0.0055153 ],\n",
       "       [-0.00387992, -0.00477963],\n",
       "       [-0.00258465,  0.00020658],\n",
       "       [-0.00193702, -0.00224565],\n",
       "       [ 0.00065352, -0.00110128],\n",
       "       [-0.00452756, -0.00355351],\n",
       "       [-0.00128938,  0.0000431 ],\n",
       "       [ 0.00130116,  0.00339449],\n",
       "       [ 0.00000589,  0.00429364],\n",
       "       [-0.00064175,  0.00445712],\n",
       "       [-0.00258465, -0.00012038],\n",
       "       [ 0.00065352,  0.00086051],\n",
       "       [-0.00323229, -0.00641445],\n",
       "       [-0.00387992, -0.0017552 ],\n",
       "       [-0.00517519, -0.0055153 ],\n",
       "       [-0.00647046, -0.00085605],\n",
       "       [ 0.00000589, -0.00110128],\n",
       "       [-0.00064175, -0.0045344 ],\n",
       "       [ 0.00453933, -0.00167346],\n",
       "       [-0.00258465, -0.00665967],\n",
       "       [ 0.00130116,  0.00274056],\n",
       "       [-0.00064175,  0.00413016],\n",
       "       [ 0.00453933,  0.00249533],\n",
       "       [-0.00064175, -0.00020212],\n",
       "       [ 0.00065352, -0.0045344 ],\n",
       "       [ 0.00065352,  0.0018414 ],\n",
       "       [ 0.00000589, -0.00363525],\n",
       "       [ 0.00324406,  0.00641891],\n",
       "       [-0.00193702,  0.00731806],\n",
       "       [ 0.00065352, -0.00183695],\n",
       "       [-0.00128938, -0.00486137],\n",
       "       [-0.00258465, -0.00289958],\n",
       "       [-0.00323229, -0.00543355],\n",
       "       [ 0.00065352, -0.00240913],\n",
       "       [ 0.00194879, -0.00306306],\n",
       "       [-0.00452756, -0.00837624],\n",
       "       [-0.00517519,  0.00020658],\n",
       "       [-0.00064175, -0.00118302],\n",
       "       [-0.00128938, -0.00069257],\n",
       "       [-0.00193702, -0.00289958],\n",
       "       [ 0.00000589, -0.00093779],\n",
       "       [ 0.00065352, -0.00044735],\n",
       "       [-0.00064175, -0.00257262],\n",
       "       [-0.00128938,  0.00110573],\n",
       "       [ 0.00712988,  0.0073998 ],\n",
       "       [ 0.0038917 ,  0.00216837],\n",
       "       [-0.00323229, -0.00347177],\n",
       "       [-0.00064175,  0.00159618],\n",
       "       [ 0.0058346 ,  0.00658239]])"
      ]
     },
     "execution_count": 30,
     "metadata": {},
     "output_type": "execute_result"
    }
   ],
   "source": [
    "Astd = np.column_stack(\n",
    "    (\n",
    "    (r0['TOEFL Score']-r0['TOEFL Score'].mean())/np.linalg.norm(r0['TOEFL Score']),\n",
    "    (r0.CGPA - r0.CGPA.mean())/np.linalg.norm(r0.CGPA)))\n",
    "Astd"
   ]
  },
  {
   "cell_type": "code",
   "execution_count": 31,
   "metadata": {},
   "outputs": [],
   "source": [
    "q = np.linalg.lstsq(Astd,(r0['Chance of Admit'] - r0['Chance of Admit'].mean())/np.linalg.norm(r0['Chance of Admit']),rcond=None)"
   ]
  },
  {
   "cell_type": "code",
   "execution_count": 32,
   "metadata": {},
   "outputs": [
    {
     "data": {
      "text/plain": [
       "(array([0.71493762, 1.89456989]),\n",
       " array([0.01244409]),\n",
       " 2,\n",
       " array([0.06762053, 0.02774482]))"
      ]
     },
     "execution_count": 32,
     "metadata": {},
     "output_type": "execute_result"
    }
   ],
   "source": [
    "q"
   ]
  },
  {
   "cell_type": "code",
   "execution_count": 33,
   "metadata": {},
   "outputs": [
    {
     "data": {
      "text/plain": [
       "array([0.19044768, 0.62001517])"
      ]
     },
     "execution_count": 33,
     "metadata": {},
     "output_type": "execute_result"
    }
   ],
   "source": [
    "TOEFL = r0['TOEFL Score']\n",
    "CGPA = r0.CGPA\n",
    "y = r0['Chance of Admit']\n",
    "TOEFL_c = TOEFL - TOEFL.mean()\n",
    "\n",
    "CGPA_c = CGPA - CGPA.mean()\n",
    "\n",
    "y_c = y - y.mean()\n",
    "\n",
    "TOEFL_st = TOEFL_c / np.linalg.norm(TOEFL_c)\n",
    "\n",
    "CGPA_st = CGPA_c / np.linalg.norm(CGPA_c)\n",
    "\n",
    "y_st = y_c / np.linalg.norm(y_c)\n",
    "\n",
    "A_st=np.column_stack(( TOEFL_st, CGPA_st))\n",
    "\n",
    "w_hat_st = np.linalg.inv(A_st.T@A_st)@A_st.T@y_st.values\n",
    "\n",
    "w_hat_st"
   ]
  },
  {
   "cell_type": "code",
   "execution_count": 34,
   "metadata": {},
   "outputs": [
    {
     "data": {
      "text/plain": [
       "array([[ 1],\n",
       "       [ 3],\n",
       "       [-2]])"
      ]
     },
     "execution_count": 34,
     "metadata": {},
     "output_type": "execute_result"
    }
   ],
   "source": [
    "a = np.array([[1,0,0],[0,0,1],[0,-1,0]])\n",
    "b = np.array([[1],[2],[3]])\n",
    "a@b"
   ]
  },
  {
   "cell_type": "code",
   "execution_count": 35,
   "metadata": {},
   "outputs": [
    {
     "data": {
      "text/plain": [
       "array([[3],\n",
       "       [3]])"
      ]
     },
     "execution_count": 35,
     "metadata": {},
     "output_type": "execute_result"
    }
   ],
   "source": [
    "a = np.array([[2,1],[1,2]])\n",
    "b = np.array([[1],[1]])\n",
    "a@b"
   ]
  },
  {
   "cell_type": "code",
   "execution_count": 39,
   "metadata": {},
   "outputs": [
    {
     "data": {
      "text/plain": [
       "array([[12],\n",
       "       [-6]])"
      ]
     },
     "execution_count": 39,
     "metadata": {},
     "output_type": "execute_result"
    }
   ],
   "source": [
    "a = np.array([[7,2],[1,8]])\n",
    "b = np.array([[2],[-1]])\n",
    "a@b"
   ]
  },
  {
   "cell_type": "code",
   "execution_count": 40,
   "metadata": {},
   "outputs": [
    {
     "data": {
      "text/plain": [
       "54.00000000000001"
      ]
     },
     "execution_count": 40,
     "metadata": {},
     "output_type": "execute_result"
    }
   ],
   "source": [
    "np.linalg.det(a)"
   ]
  },
  {
   "cell_type": "code",
   "execution_count": 41,
   "metadata": {},
   "outputs": [
    {
     "data": {
      "text/plain": [
       "array([[7, 2],\n",
       "       [1, 8]])"
      ]
     },
     "execution_count": 41,
     "metadata": {},
     "output_type": "execute_result"
    }
   ],
   "source": [
    "a"
   ]
  },
  {
   "cell_type": "code",
   "execution_count": null,
   "metadata": {},
   "outputs": [],
   "source": [
    "(7 - x)*(8-x) -2 = 0\n",
    "56 -7x -8x +x*x -2 = 0\n",
    "54 - 13x + x*x = 0\n",
    "\n"
   ]
  }
 ],
 "metadata": {
  "kernelspec": {
   "display_name": "Python 3",
   "language": "python",
   "name": "python3"
  },
  "language_info": {
   "codemirror_mode": {
    "name": "ipython",
    "version": 3
   },
   "file_extension": ".py",
   "mimetype": "text/x-python",
   "name": "python",
   "nbconvert_exporter": "python",
   "pygments_lexer": "ipython3",
   "version": "3.7.6"
  }
 },
 "nbformat": 4,
 "nbformat_minor": 4
}
