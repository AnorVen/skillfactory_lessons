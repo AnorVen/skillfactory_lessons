{
 "cells": [
  {
   "cell_type": "code",
   "execution_count": 1,
   "metadata": {},
   "outputs": [],
   "source": [
    "import pandas as pd\n",
    "import numpy as np"
   ]
  },
  {
   "cell_type": "code",
   "execution_count": 2,
   "metadata": {},
   "outputs": [
    {
     "name": "stdout",
     "output_type": "stream",
     "text": [
      "<class 'pandas.core.frame.DataFrame'>\n",
      "RangeIndex: 250306 entries, 0 to 250305\n",
      "Data columns (total 34 columns):\n",
      " #   Column                      Non-Null Count   Dtype  \n",
      "---  ------                      --------------   -----  \n",
      " 0   ticket_id                   250306 non-null  int64  \n",
      " 1   agency_name                 250306 non-null  object \n",
      " 2   inspector_name              250306 non-null  object \n",
      " 3   violator_name               250272 non-null  object \n",
      " 4   violation_street_number     250306 non-null  float64\n",
      " 5   violation_street_name       250306 non-null  object \n",
      " 6   violation_zip_code          0 non-null       float64\n",
      " 7   mailing_address_str_number  246704 non-null  float64\n",
      " 8   mailing_address_str_name    250302 non-null  object \n",
      " 9   city                        250306 non-null  object \n",
      " 10  state                       250213 non-null  object \n",
      " 11  zip_code                    250305 non-null  object \n",
      " 12  non_us_str_code             3 non-null       object \n",
      " 13  country                     250306 non-null  object \n",
      " 14  ticket_issued_date          250306 non-null  object \n",
      " 15  hearing_date                237815 non-null  object \n",
      " 16  violation_code              250306 non-null  object \n",
      " 17  violation_description       250306 non-null  object \n",
      " 18  disposition                 250306 non-null  object \n",
      " 19  fine_amount                 250305 non-null  float64\n",
      " 20  admin_fee                   250306 non-null  float64\n",
      " 21  state_fee                   250306 non-null  float64\n",
      " 22  late_fee                    250306 non-null  float64\n",
      " 23  discount_amount             250306 non-null  float64\n",
      " 24  clean_up_cost               250306 non-null  float64\n",
      " 25  judgment_amount             250306 non-null  float64\n",
      " 26  payment_amount              250306 non-null  float64\n",
      " 27  balance_due                 250306 non-null  float64\n",
      " 28  payment_date                41113 non-null   object \n",
      " 29  payment_status              250306 non-null  object \n",
      " 30  collection_status           36897 non-null   object \n",
      " 31  grafitti_status             1 non-null       object \n",
      " 32  compliance_detail           250306 non-null  object \n",
      " 33  compliance                  159880 non-null  float64\n",
      "dtypes: float64(13), int64(1), object(20)\n",
      "memory usage: 64.9+ MB\n"
     ]
    }
   ],
   "source": [
    "train = pd.read_csv('./ml2-train.csv', encoding = 'ISO-8859-1', low_memory = False)\n",
    "train.info()\n",
    "result = train.state.fillna(train.state.describe().top)"
   ]
  },
  {
   "cell_type": "code",
   "execution_count": 3,
   "metadata": {},
   "outputs": [
    {
     "data": {
      "text/html": [
       "<div>\n",
       "<style scoped>\n",
       "    .dataframe tbody tr th:only-of-type {\n",
       "        vertical-align: middle;\n",
       "    }\n",
       "\n",
       "    .dataframe tbody tr th {\n",
       "        vertical-align: top;\n",
       "    }\n",
       "\n",
       "    .dataframe thead th {\n",
       "        text-align: right;\n",
       "    }\n",
       "</style>\n",
       "<table border=\"1\" class=\"dataframe\">\n",
       "  <thead>\n",
       "    <tr style=\"text-align: right;\">\n",
       "      <th></th>\n",
       "      <th>id</th>\n",
       "      <th>full_sq</th>\n",
       "      <th>life_sq</th>\n",
       "      <th>floor</th>\n",
       "      <th>sub_area</th>\n",
       "      <th>preschool_quota</th>\n",
       "      <th>preschool_education_centers_raion</th>\n",
       "      <th>school_quota</th>\n",
       "      <th>school_education_centers_raion</th>\n",
       "      <th>school_education_centers_top_20_raion</th>\n",
       "      <th>...</th>\n",
       "      <th>shopping_centers_km</th>\n",
       "      <th>office_km</th>\n",
       "      <th>additional_education_km</th>\n",
       "      <th>preschool_km</th>\n",
       "      <th>big_church_km</th>\n",
       "      <th>church_synagogue_km</th>\n",
       "      <th>theater_km</th>\n",
       "      <th>museum_km</th>\n",
       "      <th>ecology</th>\n",
       "      <th>price_doc</th>\n",
       "    </tr>\n",
       "  </thead>\n",
       "  <tbody>\n",
       "    <tr>\n",
       "      <th>0</th>\n",
       "      <td>1</td>\n",
       "      <td>43</td>\n",
       "      <td>27.0</td>\n",
       "      <td>4.0</td>\n",
       "      <td>Bibirevo</td>\n",
       "      <td>5001.0</td>\n",
       "      <td>5</td>\n",
       "      <td>11065.0</td>\n",
       "      <td>5</td>\n",
       "      <td>0</td>\n",
       "      <td>...</td>\n",
       "      <td>0.648488</td>\n",
       "      <td>0.637189</td>\n",
       "      <td>0.947962</td>\n",
       "      <td>0.177975</td>\n",
       "      <td>0.625783</td>\n",
       "      <td>0.628187</td>\n",
       "      <td>14.053047</td>\n",
       "      <td>7.389498</td>\n",
       "      <td>good</td>\n",
       "      <td>5850000</td>\n",
       "    </tr>\n",
       "    <tr>\n",
       "      <th>1</th>\n",
       "      <td>2</td>\n",
       "      <td>34</td>\n",
       "      <td>19.0</td>\n",
       "      <td>3.0</td>\n",
       "      <td>Nagatinskij Zaton</td>\n",
       "      <td>3119.0</td>\n",
       "      <td>5</td>\n",
       "      <td>6237.0</td>\n",
       "      <td>8</td>\n",
       "      <td>0</td>\n",
       "      <td>...</td>\n",
       "      <td>0.519311</td>\n",
       "      <td>0.688796</td>\n",
       "      <td>1.072315</td>\n",
       "      <td>0.273345</td>\n",
       "      <td>0.967821</td>\n",
       "      <td>0.471447</td>\n",
       "      <td>6.829889</td>\n",
       "      <td>0.709260</td>\n",
       "      <td>excellent</td>\n",
       "      <td>6000000</td>\n",
       "    </tr>\n",
       "    <tr>\n",
       "      <th>2</th>\n",
       "      <td>3</td>\n",
       "      <td>43</td>\n",
       "      <td>29.0</td>\n",
       "      <td>2.0</td>\n",
       "      <td>Tekstil'shhiki</td>\n",
       "      <td>1463.0</td>\n",
       "      <td>4</td>\n",
       "      <td>5580.0</td>\n",
       "      <td>7</td>\n",
       "      <td>0</td>\n",
       "      <td>...</td>\n",
       "      <td>1.486533</td>\n",
       "      <td>1.543049</td>\n",
       "      <td>0.391957</td>\n",
       "      <td>0.158072</td>\n",
       "      <td>3.178751</td>\n",
       "      <td>0.755946</td>\n",
       "      <td>4.273200</td>\n",
       "      <td>3.156423</td>\n",
       "      <td>poor</td>\n",
       "      <td>5700000</td>\n",
       "    </tr>\n",
       "    <tr>\n",
       "      <th>3</th>\n",
       "      <td>4</td>\n",
       "      <td>89</td>\n",
       "      <td>50.0</td>\n",
       "      <td>9.0</td>\n",
       "      <td>Mitino</td>\n",
       "      <td>6839.0</td>\n",
       "      <td>9</td>\n",
       "      <td>17063.0</td>\n",
       "      <td>10</td>\n",
       "      <td>0</td>\n",
       "      <td>...</td>\n",
       "      <td>0.599914</td>\n",
       "      <td>0.934273</td>\n",
       "      <td>0.892674</td>\n",
       "      <td>0.236455</td>\n",
       "      <td>1.031777</td>\n",
       "      <td>1.561505</td>\n",
       "      <td>16.990677</td>\n",
       "      <td>16.041521</td>\n",
       "      <td>good</td>\n",
       "      <td>13100000</td>\n",
       "    </tr>\n",
       "    <tr>\n",
       "      <th>4</th>\n",
       "      <td>5</td>\n",
       "      <td>77</td>\n",
       "      <td>77.0</td>\n",
       "      <td>4.0</td>\n",
       "      <td>Basmannoe</td>\n",
       "      <td>3240.0</td>\n",
       "      <td>7</td>\n",
       "      <td>7770.0</td>\n",
       "      <td>9</td>\n",
       "      <td>0</td>\n",
       "      <td>...</td>\n",
       "      <td>0.429052</td>\n",
       "      <td>0.077901</td>\n",
       "      <td>0.810801</td>\n",
       "      <td>0.376838</td>\n",
       "      <td>0.378756</td>\n",
       "      <td>0.121681</td>\n",
       "      <td>1.112486</td>\n",
       "      <td>1.800125</td>\n",
       "      <td>excellent</td>\n",
       "      <td>16331452</td>\n",
       "    </tr>\n",
       "  </tbody>\n",
       "</table>\n",
       "<p>5 rows × 56 columns</p>\n",
       "</div>"
      ],
      "text/plain": [
       "   id  full_sq  life_sq  floor           sub_area  preschool_quota  \\\n",
       "0   1       43     27.0    4.0           Bibirevo           5001.0   \n",
       "1   2       34     19.0    3.0  Nagatinskij Zaton           3119.0   \n",
       "2   3       43     29.0    2.0     Tekstil'shhiki           1463.0   \n",
       "3   4       89     50.0    9.0             Mitino           6839.0   \n",
       "4   5       77     77.0    4.0          Basmannoe           3240.0   \n",
       "\n",
       "   preschool_education_centers_raion  school_quota  \\\n",
       "0                                  5       11065.0   \n",
       "1                                  5        6237.0   \n",
       "2                                  4        5580.0   \n",
       "3                                  9       17063.0   \n",
       "4                                  7        7770.0   \n",
       "\n",
       "   school_education_centers_raion  school_education_centers_top_20_raion  ...  \\\n",
       "0                               5                                      0  ...   \n",
       "1                               8                                      0  ...   \n",
       "2                               7                                      0  ...   \n",
       "3                              10                                      0  ...   \n",
       "4                               9                                      0  ...   \n",
       "\n",
       "   shopping_centers_km  office_km  additional_education_km  preschool_km  \\\n",
       "0             0.648488   0.637189                 0.947962      0.177975   \n",
       "1             0.519311   0.688796                 1.072315      0.273345   \n",
       "2             1.486533   1.543049                 0.391957      0.158072   \n",
       "3             0.599914   0.934273                 0.892674      0.236455   \n",
       "4             0.429052   0.077901                 0.810801      0.376838   \n",
       "\n",
       "   big_church_km  church_synagogue_km  theater_km  museum_km    ecology  \\\n",
       "0       0.625783             0.628187   14.053047   7.389498       good   \n",
       "1       0.967821             0.471447    6.829889   0.709260  excellent   \n",
       "2       3.178751             0.755946    4.273200   3.156423       poor   \n",
       "3       1.031777             1.561505   16.990677  16.041521       good   \n",
       "4       0.378756             0.121681    1.112486   1.800125  excellent   \n",
       "\n",
       "   price_doc  \n",
       "0    5850000  \n",
       "1    6000000  \n",
       "2    5700000  \n",
       "3   13100000  \n",
       "4   16331452  \n",
       "\n",
       "[5 rows x 56 columns]"
      ]
     },
     "execution_count": 3,
     "metadata": {},
     "output_type": "execute_result"
    }
   ],
   "source": [
    "data = pd.read_csv('ml2-data_flats.csv',sep=\";\")\n",
    "data.head()"
   ]
  },
  {
   "cell_type": "code",
   "execution_count": 4,
   "metadata": {},
   "outputs": [
    {
     "name": "stdout",
     "output_type": "stream",
     "text": [
      "<class 'pandas.core.frame.DataFrame'>\n",
      "RangeIndex: 30469 entries, 0 to 30468\n",
      "Data columns (total 56 columns):\n",
      " #   Column                                 Non-Null Count  Dtype  \n",
      "---  ------                                 --------------  -----  \n",
      " 0   id                                     30469 non-null  int64  \n",
      " 1   full_sq                                30469 non-null  int64  \n",
      " 2   life_sq                                24086 non-null  float64\n",
      " 3   floor                                  30302 non-null  float64\n",
      " 4   sub_area                               30469 non-null  object \n",
      " 5   preschool_quota                        23781 non-null  float64\n",
      " 6   preschool_education_centers_raion      30469 non-null  int64  \n",
      " 7   school_quota                           23784 non-null  float64\n",
      " 8   school_education_centers_raion         30469 non-null  int64  \n",
      " 9   school_education_centers_top_20_raion  30469 non-null  int64  \n",
      " 10  hospital_beds_raion                    16029 non-null  float64\n",
      " 11  healthcare_centers_raion               30469 non-null  int64  \n",
      " 12  university_top_20_raion                30469 non-null  int64  \n",
      " 13  sport_objects_raion                    30469 non-null  int64  \n",
      " 14  additional_education_raion             30469 non-null  int64  \n",
      " 15  culture_objects_top_25_raion           30469 non-null  int64  \n",
      " 16  shopping_centers_raion                 30469 non-null  int64  \n",
      " 17  office_raion                           30469 non-null  int64  \n",
      " 18  metro_min_avto                         30469 non-null  float64\n",
      " 19  metro_km_avto                          30469 non-null  float64\n",
      " 20  metro_min_walk                         30444 non-null  float64\n",
      " 21  metro_km_walk                          30444 non-null  float64\n",
      " 22  kindergarten_km                        30469 non-null  float64\n",
      " 23  school_km                              30469 non-null  float64\n",
      " 24  park_km                                30469 non-null  float64\n",
      " 25  green_zone_km                          30469 non-null  float64\n",
      " 26  industrial_km                          30469 non-null  float64\n",
      " 27  railroad_station_walk_km               30444 non-null  float64\n",
      " 28  railroad_station_walk_min              30444 non-null  float64\n",
      " 29  public_transport_station_km            30469 non-null  float64\n",
      " 30  public_transport_station_min_walk      30469 non-null  float64\n",
      " 31  mkad_km                                30469 non-null  float64\n",
      " 32  ttk_km                                 30469 non-null  float64\n",
      " 33  sadovoe_km                             30469 non-null  float64\n",
      " 34  bulvar_ring_km                         30469 non-null  float64\n",
      " 35  kremlin_km                             30469 non-null  float64\n",
      " 36  big_market_km                          30469 non-null  float64\n",
      " 37  market_shop_km                         30469 non-null  float64\n",
      " 38  fitness_km                             30469 non-null  float64\n",
      " 39  swim_pool_km                           30469 non-null  float64\n",
      " 40  ice_rink_km                            30469 non-null  float64\n",
      " 41  stadium_km                             30469 non-null  float64\n",
      " 42  basketball_km                          30469 non-null  float64\n",
      " 43  hospice_morgue_km                      30469 non-null  float64\n",
      " 44  university_km                          30469 non-null  float64\n",
      " 45  workplaces_km                          30469 non-null  float64\n",
      " 46  shopping_centers_km                    30469 non-null  float64\n",
      " 47  office_km                              30469 non-null  float64\n",
      " 48  additional_education_km                30469 non-null  float64\n",
      " 49  preschool_km                           30469 non-null  float64\n",
      " 50  big_church_km                          30469 non-null  float64\n",
      " 51  church_synagogue_km                    30469 non-null  float64\n",
      " 52  theater_km                             30469 non-null  float64\n",
      " 53  museum_km                              30469 non-null  float64\n",
      " 54  ecology                                30469 non-null  object \n",
      " 55  price_doc                              30469 non-null  int64  \n",
      "dtypes: float64(41), int64(13), object(2)\n",
      "memory usage: 13.0+ MB\n"
     ]
    }
   ],
   "source": [
    "data.info()"
   ]
  },
  {
   "cell_type": "code",
   "execution_count": 5,
   "metadata": {},
   "outputs": [
    {
     "name": "stdout",
     "output_type": "stream",
     "text": [
      "<class 'pandas.core.frame.DataFrame'>\n",
      "Int64Index: 13652 entries, 0 to 30468\n",
      "Data columns (total 56 columns):\n",
      " #   Column                                 Non-Null Count  Dtype  \n",
      "---  ------                                 --------------  -----  \n",
      " 0   id                                     13652 non-null  int64  \n",
      " 1   full_sq                                13652 non-null  int64  \n",
      " 2   life_sq                                13652 non-null  float64\n",
      " 3   floor                                  13652 non-null  float64\n",
      " 4   sub_area                               13652 non-null  object \n",
      " 5   preschool_quota                        13652 non-null  float64\n",
      " 6   preschool_education_centers_raion      13652 non-null  int64  \n",
      " 7   school_quota                           13652 non-null  float64\n",
      " 8   school_education_centers_raion         13652 non-null  int64  \n",
      " 9   school_education_centers_top_20_raion  13652 non-null  int64  \n",
      " 10  hospital_beds_raion                    13652 non-null  float64\n",
      " 11  healthcare_centers_raion               13652 non-null  int64  \n",
      " 12  university_top_20_raion                13652 non-null  int64  \n",
      " 13  sport_objects_raion                    13652 non-null  int64  \n",
      " 14  additional_education_raion             13652 non-null  int64  \n",
      " 15  culture_objects_top_25_raion           13652 non-null  int64  \n",
      " 16  shopping_centers_raion                 13652 non-null  int64  \n",
      " 17  office_raion                           13652 non-null  int64  \n",
      " 18  metro_min_avto                         13652 non-null  float64\n",
      " 19  metro_km_avto                          13652 non-null  float64\n",
      " 20  metro_min_walk                         13652 non-null  float64\n",
      " 21  metro_km_walk                          13652 non-null  float64\n",
      " 22  kindergarten_km                        13652 non-null  float64\n",
      " 23  school_km                              13652 non-null  float64\n",
      " 24  park_km                                13652 non-null  float64\n",
      " 25  green_zone_km                          13652 non-null  float64\n",
      " 26  industrial_km                          13652 non-null  float64\n",
      " 27  railroad_station_walk_km               13652 non-null  float64\n",
      " 28  railroad_station_walk_min              13652 non-null  float64\n",
      " 29  public_transport_station_km            13652 non-null  float64\n",
      " 30  public_transport_station_min_walk      13652 non-null  float64\n",
      " 31  mkad_km                                13652 non-null  float64\n",
      " 32  ttk_km                                 13652 non-null  float64\n",
      " 33  sadovoe_km                             13652 non-null  float64\n",
      " 34  bulvar_ring_km                         13652 non-null  float64\n",
      " 35  kremlin_km                             13652 non-null  float64\n",
      " 36  big_market_km                          13652 non-null  float64\n",
      " 37  market_shop_km                         13652 non-null  float64\n",
      " 38  fitness_km                             13652 non-null  float64\n",
      " 39  swim_pool_km                           13652 non-null  float64\n",
      " 40  ice_rink_km                            13652 non-null  float64\n",
      " 41  stadium_km                             13652 non-null  float64\n",
      " 42  basketball_km                          13652 non-null  float64\n",
      " 43  hospice_morgue_km                      13652 non-null  float64\n",
      " 44  university_km                          13652 non-null  float64\n",
      " 45  workplaces_km                          13652 non-null  float64\n",
      " 46  shopping_centers_km                    13652 non-null  float64\n",
      " 47  office_km                              13652 non-null  float64\n",
      " 48  additional_education_km                13652 non-null  float64\n",
      " 49  preschool_km                           13652 non-null  float64\n",
      " 50  big_church_km                          13652 non-null  float64\n",
      " 51  church_synagogue_km                    13652 non-null  float64\n",
      " 52  theater_km                             13652 non-null  float64\n",
      " 53  museum_km                              13652 non-null  float64\n",
      " 54  ecology                                13652 non-null  object \n",
      " 55  price_doc                              13652 non-null  int64  \n",
      "dtypes: float64(41), int64(13), object(2)\n",
      "memory usage: 5.9+ MB\n"
     ]
    }
   ],
   "source": [
    "df = data.dropna(axis=0)\n",
    "df.info()"
   ]
  },
  {
   "cell_type": "code",
   "execution_count": null,
   "metadata": {},
   "outputs": [],
   "source": []
  },
  {
   "cell_type": "code",
   "execution_count": 6,
   "metadata": {},
   "outputs": [
    {
     "data": {
      "text/html": [
       "<div>\n",
       "<style scoped>\n",
       "    .dataframe tbody tr th:only-of-type {\n",
       "        vertical-align: middle;\n",
       "    }\n",
       "\n",
       "    .dataframe tbody tr th {\n",
       "        vertical-align: top;\n",
       "    }\n",
       "\n",
       "    .dataframe thead th {\n",
       "        text-align: right;\n",
       "    }\n",
       "</style>\n",
       "<table border=\"1\" class=\"dataframe\">\n",
       "  <thead>\n",
       "    <tr style=\"text-align: right;\">\n",
       "      <th></th>\n",
       "      <th>id</th>\n",
       "      <th>full_sq</th>\n",
       "      <th>life_sq</th>\n",
       "      <th>floor</th>\n",
       "      <th>sub_area</th>\n",
       "      <th>preschool_quota</th>\n",
       "      <th>preschool_education_centers_raion</th>\n",
       "      <th>school_quota</th>\n",
       "      <th>school_education_centers_raion</th>\n",
       "      <th>school_education_centers_top_20_raion</th>\n",
       "      <th>...</th>\n",
       "      <th>shopping_centers_km</th>\n",
       "      <th>office_km</th>\n",
       "      <th>additional_education_km</th>\n",
       "      <th>preschool_km</th>\n",
       "      <th>big_church_km</th>\n",
       "      <th>church_synagogue_km</th>\n",
       "      <th>theater_km</th>\n",
       "      <th>museum_km</th>\n",
       "      <th>ecology</th>\n",
       "      <th>price_doc</th>\n",
       "    </tr>\n",
       "  </thead>\n",
       "  <tbody>\n",
       "    <tr>\n",
       "      <th>0</th>\n",
       "      <td>1</td>\n",
       "      <td>43</td>\n",
       "      <td>27.0</td>\n",
       "      <td>4.0</td>\n",
       "      <td>Bibirevo</td>\n",
       "      <td>5001.0</td>\n",
       "      <td>5</td>\n",
       "      <td>11065.0</td>\n",
       "      <td>5</td>\n",
       "      <td>0</td>\n",
       "      <td>...</td>\n",
       "      <td>0.648488</td>\n",
       "      <td>0.637189</td>\n",
       "      <td>0.947962</td>\n",
       "      <td>0.177975</td>\n",
       "      <td>0.625783</td>\n",
       "      <td>0.628187</td>\n",
       "      <td>14.053047</td>\n",
       "      <td>7.389498</td>\n",
       "      <td>good</td>\n",
       "      <td>5850000</td>\n",
       "    </tr>\n",
       "    <tr>\n",
       "      <th>1</th>\n",
       "      <td>2</td>\n",
       "      <td>34</td>\n",
       "      <td>19.0</td>\n",
       "      <td>3.0</td>\n",
       "      <td>Nagatinskij Zaton</td>\n",
       "      <td>3119.0</td>\n",
       "      <td>5</td>\n",
       "      <td>6237.0</td>\n",
       "      <td>8</td>\n",
       "      <td>0</td>\n",
       "      <td>...</td>\n",
       "      <td>0.519311</td>\n",
       "      <td>0.688796</td>\n",
       "      <td>1.072315</td>\n",
       "      <td>0.273345</td>\n",
       "      <td>0.967821</td>\n",
       "      <td>0.471447</td>\n",
       "      <td>6.829889</td>\n",
       "      <td>0.709260</td>\n",
       "      <td>excellent</td>\n",
       "      <td>6000000</td>\n",
       "    </tr>\n",
       "    <tr>\n",
       "      <th>2</th>\n",
       "      <td>3</td>\n",
       "      <td>43</td>\n",
       "      <td>29.0</td>\n",
       "      <td>2.0</td>\n",
       "      <td>Tekstil'shhiki</td>\n",
       "      <td>1463.0</td>\n",
       "      <td>4</td>\n",
       "      <td>5580.0</td>\n",
       "      <td>7</td>\n",
       "      <td>0</td>\n",
       "      <td>...</td>\n",
       "      <td>1.486533</td>\n",
       "      <td>1.543049</td>\n",
       "      <td>0.391957</td>\n",
       "      <td>0.158072</td>\n",
       "      <td>3.178751</td>\n",
       "      <td>0.755946</td>\n",
       "      <td>4.273200</td>\n",
       "      <td>3.156423</td>\n",
       "      <td>poor</td>\n",
       "      <td>5700000</td>\n",
       "    </tr>\n",
       "    <tr>\n",
       "      <th>4</th>\n",
       "      <td>5</td>\n",
       "      <td>77</td>\n",
       "      <td>77.0</td>\n",
       "      <td>4.0</td>\n",
       "      <td>Basmannoe</td>\n",
       "      <td>3240.0</td>\n",
       "      <td>7</td>\n",
       "      <td>7770.0</td>\n",
       "      <td>9</td>\n",
       "      <td>0</td>\n",
       "      <td>...</td>\n",
       "      <td>0.429052</td>\n",
       "      <td>0.077901</td>\n",
       "      <td>0.810801</td>\n",
       "      <td>0.376838</td>\n",
       "      <td>0.378756</td>\n",
       "      <td>0.121681</td>\n",
       "      <td>1.112486</td>\n",
       "      <td>1.800125</td>\n",
       "      <td>excellent</td>\n",
       "      <td>16331452</td>\n",
       "    </tr>\n",
       "    <tr>\n",
       "      <th>6</th>\n",
       "      <td>7</td>\n",
       "      <td>25</td>\n",
       "      <td>14.0</td>\n",
       "      <td>10.0</td>\n",
       "      <td>Sokol'niki</td>\n",
       "      <td>933.0</td>\n",
       "      <td>5</td>\n",
       "      <td>5050.0</td>\n",
       "      <td>5</td>\n",
       "      <td>0</td>\n",
       "      <td>...</td>\n",
       "      <td>0.513689</td>\n",
       "      <td>0.067725</td>\n",
       "      <td>0.273019</td>\n",
       "      <td>0.516979</td>\n",
       "      <td>0.822377</td>\n",
       "      <td>0.318230</td>\n",
       "      <td>0.752223</td>\n",
       "      <td>2.969315</td>\n",
       "      <td>poor</td>\n",
       "      <td>5500000</td>\n",
       "    </tr>\n",
       "  </tbody>\n",
       "</table>\n",
       "<p>5 rows × 56 columns</p>\n",
       "</div>"
      ],
      "text/plain": [
       "   id  full_sq  life_sq  floor           sub_area  preschool_quota  \\\n",
       "0   1       43     27.0    4.0           Bibirevo           5001.0   \n",
       "1   2       34     19.0    3.0  Nagatinskij Zaton           3119.0   \n",
       "2   3       43     29.0    2.0     Tekstil'shhiki           1463.0   \n",
       "4   5       77     77.0    4.0          Basmannoe           3240.0   \n",
       "6   7       25     14.0   10.0         Sokol'niki            933.0   \n",
       "\n",
       "   preschool_education_centers_raion  school_quota  \\\n",
       "0                                  5       11065.0   \n",
       "1                                  5        6237.0   \n",
       "2                                  4        5580.0   \n",
       "4                                  7        7770.0   \n",
       "6                                  5        5050.0   \n",
       "\n",
       "   school_education_centers_raion  school_education_centers_top_20_raion  ...  \\\n",
       "0                               5                                      0  ...   \n",
       "1                               8                                      0  ...   \n",
       "2                               7                                      0  ...   \n",
       "4                               9                                      0  ...   \n",
       "6                               5                                      0  ...   \n",
       "\n",
       "   shopping_centers_km  office_km  additional_education_km  preschool_km  \\\n",
       "0             0.648488   0.637189                 0.947962      0.177975   \n",
       "1             0.519311   0.688796                 1.072315      0.273345   \n",
       "2             1.486533   1.543049                 0.391957      0.158072   \n",
       "4             0.429052   0.077901                 0.810801      0.376838   \n",
       "6             0.513689   0.067725                 0.273019      0.516979   \n",
       "\n",
       "   big_church_km  church_synagogue_km  theater_km  museum_km    ecology  \\\n",
       "0       0.625783             0.628187   14.053047   7.389498       good   \n",
       "1       0.967821             0.471447    6.829889   0.709260  excellent   \n",
       "2       3.178751             0.755946    4.273200   3.156423       poor   \n",
       "4       0.378756             0.121681    1.112486   1.800125  excellent   \n",
       "6       0.822377             0.318230    0.752223   2.969315       poor   \n",
       "\n",
       "   price_doc  \n",
       "0    5850000  \n",
       "1    6000000  \n",
       "2    5700000  \n",
       "4   16331452  \n",
       "6    5500000  \n",
       "\n",
       "[5 rows x 56 columns]"
      ]
     },
     "execution_count": 6,
     "metadata": {},
     "output_type": "execute_result"
    }
   ],
   "source": [
    "df.head()"
   ]
  },
  {
   "cell_type": "code",
   "execution_count": 7,
   "metadata": {},
   "outputs": [
    {
     "name": "stdout",
     "output_type": "stream",
     "text": [
      "<class 'pandas.core.frame.DataFrame'>\n",
      "RangeIndex: 250306 entries, 0 to 250305\n",
      "Data columns (total 34 columns):\n",
      " #   Column                      Non-Null Count   Dtype  \n",
      "---  ------                      --------------   -----  \n",
      " 0   ticket_id                   250306 non-null  int64  \n",
      " 1   agency_name                 250306 non-null  object \n",
      " 2   inspector_name              250306 non-null  object \n",
      " 3   violator_name               250272 non-null  object \n",
      " 4   violation_street_number     250306 non-null  float64\n",
      " 5   violation_street_name       250306 non-null  object \n",
      " 6   violation_zip_code          0 non-null       float64\n",
      " 7   mailing_address_str_number  246704 non-null  float64\n",
      " 8   mailing_address_str_name    250302 non-null  object \n",
      " 9   city                        250306 non-null  object \n",
      " 10  state                       250213 non-null  object \n",
      " 11  zip_code                    250305 non-null  object \n",
      " 12  non_us_str_code             3 non-null       object \n",
      " 13  country                     250306 non-null  object \n",
      " 14  ticket_issued_date          250306 non-null  object \n",
      " 15  hearing_date                237815 non-null  object \n",
      " 16  violation_code              250306 non-null  object \n",
      " 17  violation_description       250306 non-null  object \n",
      " 18  disposition                 250306 non-null  object \n",
      " 19  fine_amount                 250305 non-null  float64\n",
      " 20  admin_fee                   250306 non-null  float64\n",
      " 21  state_fee                   250306 non-null  float64\n",
      " 22  late_fee                    250306 non-null  float64\n",
      " 23  discount_amount             250306 non-null  float64\n",
      " 24  clean_up_cost               250306 non-null  float64\n",
      " 25  judgment_amount             250306 non-null  float64\n",
      " 26  payment_amount              250306 non-null  float64\n",
      " 27  balance_due                 250306 non-null  float64\n",
      " 28  payment_date                41113 non-null   object \n",
      " 29  payment_status              250306 non-null  object \n",
      " 30  collection_status           36897 non-null   object \n",
      " 31  grafitti_status             1 non-null       object \n",
      " 32  compliance_detail           250306 non-null  object \n",
      " 33  compliance                  159880 non-null  float64\n",
      "dtypes: float64(13), int64(1), object(20)\n",
      "memory usage: 64.9+ MB\n"
     ]
    }
   ],
   "source": [
    "train.info()"
   ]
  },
  {
   "cell_type": "code",
   "execution_count": 8,
   "metadata": {},
   "outputs": [
    {
     "data": {
      "text/plain": [
       "array([305.,  75.,   0., ...,   0.,   0.,   0.])"
      ]
     },
     "execution_count": 8,
     "metadata": {},
     "output_type": "execute_result"
    }
   ],
   "source": [
    "test_data = np.array(train.balance_due)\n",
    "test_data"
   ]
  },
  {
   "cell_type": "code",
   "execution_count": 9,
   "metadata": {},
   "outputs": [],
   "source": [
    "c = np.reshape(test_data, (len(test_data),1))"
   ]
  },
  {
   "cell_type": "code",
   "execution_count": 10,
   "metadata": {},
   "outputs": [
    {
     "data": {
      "text/plain": [
       "-13.147334652567258"
      ]
     },
     "execution_count": 10,
     "metadata": {},
     "output_type": "execute_result"
    }
   ],
   "source": [
    "from sklearn.preprocessing import MinMaxScaler, StandardScaler\n",
    "scaler = MinMaxScaler()\n",
    "scaler_std = StandardScaler()\n",
    "a = scaler.fit_transform(c)\n",
    "b = scaler_std.fit_transform(c)\n",
    "b.min()"
   ]
  },
  {
   "cell_type": "code",
   "execution_count": 11,
   "metadata": {},
   "outputs": [],
   "source": [
    "a = train[train.balance_due > 0].balance_due.apply(lambda x: x**(1/2))"
   ]
  },
  {
   "cell_type": "code",
   "execution_count": 12,
   "metadata": {},
   "outputs": [
    {
     "data": {
      "text/plain": [
       "17.011653135633672"
      ]
     },
     "execution_count": 12,
     "metadata": {},
     "output_type": "execute_result"
    }
   ],
   "source": [
    "a.mean()"
   ]
  },
  {
   "cell_type": "code",
   "execution_count": 13,
   "metadata": {},
   "outputs": [
    {
     "data": {
      "text/plain": [
       "0.4525960609393067"
      ]
     },
     "execution_count": 13,
     "metadata": {},
     "output_type": "execute_result"
    }
   ],
   "source": [
    "a.median() - a.mean()"
   ]
  },
  {
   "cell_type": "code",
   "execution_count": 14,
   "metadata": {},
   "outputs": [],
   "source": [
    "df = pd.read_csv('ml2-data_flats.csv',sep=\";\")"
   ]
  },
  {
   "cell_type": "code",
   "execution_count": 15,
   "metadata": {},
   "outputs": [
    {
     "name": "stdout",
     "output_type": "stream",
     "text": [
      "<class 'pandas.core.frame.DataFrame'>\n",
      "RangeIndex: 30469 entries, 0 to 30468\n",
      "Data columns (total 56 columns):\n",
      " #   Column                                 Non-Null Count  Dtype  \n",
      "---  ------                                 --------------  -----  \n",
      " 0   id                                     30469 non-null  int64  \n",
      " 1   full_sq                                30469 non-null  int64  \n",
      " 2   life_sq                                24086 non-null  float64\n",
      " 3   floor                                  30302 non-null  float64\n",
      " 4   sub_area                               30469 non-null  object \n",
      " 5   preschool_quota                        23781 non-null  float64\n",
      " 6   preschool_education_centers_raion      30469 non-null  int64  \n",
      " 7   school_quota                           23784 non-null  float64\n",
      " 8   school_education_centers_raion         30469 non-null  int64  \n",
      " 9   school_education_centers_top_20_raion  30469 non-null  int64  \n",
      " 10  hospital_beds_raion                    16029 non-null  float64\n",
      " 11  healthcare_centers_raion               30469 non-null  int64  \n",
      " 12  university_top_20_raion                30469 non-null  int64  \n",
      " 13  sport_objects_raion                    30469 non-null  int64  \n",
      " 14  additional_education_raion             30469 non-null  int64  \n",
      " 15  culture_objects_top_25_raion           30469 non-null  int64  \n",
      " 16  shopping_centers_raion                 30469 non-null  int64  \n",
      " 17  office_raion                           30469 non-null  int64  \n",
      " 18  metro_min_avto                         30469 non-null  float64\n",
      " 19  metro_km_avto                          30469 non-null  float64\n",
      " 20  metro_min_walk                         30444 non-null  float64\n",
      " 21  metro_km_walk                          30444 non-null  float64\n",
      " 22  kindergarten_km                        30469 non-null  float64\n",
      " 23  school_km                              30469 non-null  float64\n",
      " 24  park_km                                30469 non-null  float64\n",
      " 25  green_zone_km                          30469 non-null  float64\n",
      " 26  industrial_km                          30469 non-null  float64\n",
      " 27  railroad_station_walk_km               30444 non-null  float64\n",
      " 28  railroad_station_walk_min              30444 non-null  float64\n",
      " 29  public_transport_station_km            30469 non-null  float64\n",
      " 30  public_transport_station_min_walk      30469 non-null  float64\n",
      " 31  mkad_km                                30469 non-null  float64\n",
      " 32  ttk_km                                 30469 non-null  float64\n",
      " 33  sadovoe_km                             30469 non-null  float64\n",
      " 34  bulvar_ring_km                         30469 non-null  float64\n",
      " 35  kremlin_km                             30469 non-null  float64\n",
      " 36  big_market_km                          30469 non-null  float64\n",
      " 37  market_shop_km                         30469 non-null  float64\n",
      " 38  fitness_km                             30469 non-null  float64\n",
      " 39  swim_pool_km                           30469 non-null  float64\n",
      " 40  ice_rink_km                            30469 non-null  float64\n",
      " 41  stadium_km                             30469 non-null  float64\n",
      " 42  basketball_km                          30469 non-null  float64\n",
      " 43  hospice_morgue_km                      30469 non-null  float64\n",
      " 44  university_km                          30469 non-null  float64\n",
      " 45  workplaces_km                          30469 non-null  float64\n",
      " 46  shopping_centers_km                    30469 non-null  float64\n",
      " 47  office_km                              30469 non-null  float64\n",
      " 48  additional_education_km                30469 non-null  float64\n",
      " 49  preschool_km                           30469 non-null  float64\n",
      " 50  big_church_km                          30469 non-null  float64\n",
      " 51  church_synagogue_km                    30469 non-null  float64\n",
      " 52  theater_km                             30469 non-null  float64\n",
      " 53  museum_km                              30469 non-null  float64\n",
      " 54  ecology                                30469 non-null  object \n",
      " 55  price_doc                              30469 non-null  int64  \n",
      "dtypes: float64(41), int64(13), object(2)\n",
      "memory usage: 13.0+ MB\n"
     ]
    }
   ],
   "source": [
    "df.info()"
   ]
  },
  {
   "cell_type": "code",
   "execution_count": 16,
   "metadata": {},
   "outputs": [
    {
     "data": {
      "text/plain": [
       "array(['Bibirevo', 'Nagatinskij Zaton', \"Tekstil'shhiki\", 'Mitino',\n",
       "       'Basmannoe', 'Nizhegorodskoe', \"Sokol'niki\", 'Koptevo', 'Kuncevo',\n",
       "       'Kosino-Uhtomskoe', 'Zapadnoe Degunino', 'Presnenskoe',\n",
       "       'Lefortovo', \"Mar'ino\", \"Kuz'minki\", 'Nagornoe', \"Gol'janovo\",\n",
       "       'Vnukovo', 'Juzhnoe Tushino', 'Severnoe Tushino',\n",
       "       \"Chertanovo Central'noe\", 'Fili Davydkovo', 'Otradnoe',\n",
       "       'Novo-Peredelkino', 'Bogorodskoe', 'Jaroslavskoe', 'Strogino',\n",
       "       'Hovrino', \"Moskvorech'e-Saburovo\", 'Staroe Krjukovo', 'Ljublino',\n",
       "       'Caricyno', 'Veshnjaki', 'Danilovskoe', 'Preobrazhenskoe',\n",
       "       \"Kon'kovo\", 'Brateevo', 'Vostochnoe Izmajlovo', 'Vyhino-Zhulebino',\n",
       "       'Donskoe', 'Novogireevo', 'Juzhnoe Butovo', 'Sokol', 'Kurkino',\n",
       "       'Izmajlovo', 'Severnoe Medvedkovo', 'Rostokino',\n",
       "       'Orehovo-Borisovo Severnoe', 'Ochakovo-Matveevskoe', 'Taganskoe',\n",
       "       'Dmitrovskoe', 'Orehovo-Borisovo Juzhnoe', 'Teplyj Stan',\n",
       "       'Babushkinskoe', 'Pokrovskoe Streshnevo', 'Obruchevskoe',\n",
       "       'Filevskij Park', 'Troparevo-Nikulino', 'Severnoe Butovo',\n",
       "       'Hamovniki', 'Solncevo', 'Dorogomilovo', 'Timirjazevskoe',\n",
       "       'Lianozovo', 'Pechatniki', 'Krjukovo', 'Jasenevo',\n",
       "       'Chertanovo Severnoe', 'Rjazanskij', 'Silino', 'Ivanovskoe',\n",
       "       'Golovinskoe', 'Novokosino', 'Nagatino-Sadovniki',\n",
       "       'Birjulevo Vostochnoe', 'Severnoe Izmajlovo', 'Sokolinaja Gora',\n",
       "       'Vostochnoe Degunino', 'Prospekt Vernadskogo', 'Savelki',\n",
       "       'Ajeroport', 'Vojkovskoe', 'Beskudnikovskoe', 'Krylatskoe',\n",
       "       'Juzhnoportovoe', 'Perovo', 'Akademicheskoe', 'Horoshevo-Mnevniki',\n",
       "       'Shhukino', 'Kapotnja', 'Horoshevskoe', 'Marfino',\n",
       "       'Chertanovo Juzhnoe', 'Savelovskoe', 'Birjulevo Zapadnoe',\n",
       "       'Nekrasovka', 'Cheremushki', 'Sviblovo', 'Alekseevskoe',\n",
       "       \"Krasnosel'skoe\", 'Kotlovka', 'Zjuzino', 'Ostankinskoe',\n",
       "       'Tverskoe', 'Losinoostrovskoe', 'Butyrskoe', 'Matushkino',\n",
       "       'Metrogorodok', 'Juzhnoe Medvedkovo', 'Lomonosovskoe', 'Jakimanka',\n",
       "       'Mozhajskoe', 'Levoberezhnoe', \"Mar'ina Roshha\", 'Gagarinskoe',\n",
       "       \"Zamoskvorech'e\", \"Altuf'evskoe\", 'Ramenki', 'Zjablikovo',\n",
       "       'Meshhanskoe', 'Severnoe', 'Begovoe', 'Arbat',\n",
       "       'Poselenie Sosenskoe', 'Poselenie Moskovskij',\n",
       "       'Poselenie Pervomajskoe', 'Poselenie Desjonovskoe',\n",
       "       'Poselenie Voskresenskoe', 'Poselenie Mosrentgen',\n",
       "       'Troickij okrug', 'Poselenie Shherbinka',\n",
       "       'Poselenie Filimonkovskoe', 'Poselenie Vnukovskoe',\n",
       "       'Poselenie Marushkinskoe', 'Poselenie Shhapovskoe',\n",
       "       'Poselenie Rjazanovskoe', 'Poselenie Kokoshkino', 'Vostochnoe',\n",
       "       'Poselenie Krasnopahorskoe', 'Poselenie Novofedorovskoe',\n",
       "       'Poselenie Voronovskoe', 'Poselenie Klenovskoe',\n",
       "       'Poselenie Rogovskoe', 'Poselenie Kievskij', 'Molzhaninovskoe',\n",
       "       'Poselenie Mihajlovo-Jarcevskoe'], dtype=object)"
      ]
     },
     "execution_count": 16,
     "metadata": {},
     "output_type": "execute_result"
    }
   ],
   "source": [
    "df.sub_area.unique()"
   ]
  },
  {
   "cell_type": "code",
   "execution_count": 17,
   "metadata": {},
   "outputs": [
    {
     "data": {
      "text/plain": [
       "sub_area\n",
       "Poselenie Klenovskoe          1000000.0\n",
       "Molzhaninovskoe               1200000.0\n",
       "Poselenie Novofedorovskoe     2795473.0\n",
       "Poselenie Shhapovskoe         2925500.0\n",
       "Poselenie Filimonkovskoe      3153072.0\n",
       "                                ...    \n",
       "Obruchevskoe                 12500000.0\n",
       "Zamoskvorech'e               12750000.0\n",
       "Lomonosovskoe                13500000.0\n",
       "Kurkino                      13930000.0\n",
       "Hamovniki                    15625000.0\n",
       "Name: price_doc, Length: 146, dtype: float64"
      ]
     },
     "execution_count": 17,
     "metadata": {},
     "output_type": "execute_result"
    }
   ],
   "source": [
    "df.groupby(by='sub_area').median().price_doc.sort_values()"
   ]
  },
  {
   "cell_type": "code",
   "execution_count": 18,
   "metadata": {},
   "outputs": [
    {
     "name": "stdout",
     "output_type": "stream",
     "text": [
      "<class 'pandas.core.frame.DataFrame'>\n",
      "RangeIndex: 250306 entries, 0 to 250305\n",
      "Data columns (total 34 columns):\n",
      " #   Column                      Non-Null Count   Dtype  \n",
      "---  ------                      --------------   -----  \n",
      " 0   ticket_id                   250306 non-null  int64  \n",
      " 1   agency_name                 250306 non-null  object \n",
      " 2   inspector_name              250306 non-null  object \n",
      " 3   violator_name               250272 non-null  object \n",
      " 4   violation_street_number     250306 non-null  float64\n",
      " 5   violation_street_name       250306 non-null  object \n",
      " 6   violation_zip_code          0 non-null       float64\n",
      " 7   mailing_address_str_number  246704 non-null  float64\n",
      " 8   mailing_address_str_name    250302 non-null  object \n",
      " 9   city                        250306 non-null  object \n",
      " 10  state                       250213 non-null  object \n",
      " 11  zip_code                    250305 non-null  object \n",
      " 12  non_us_str_code             3 non-null       object \n",
      " 13  country                     250306 non-null  object \n",
      " 14  ticket_issued_date          250306 non-null  object \n",
      " 15  hearing_date                237815 non-null  object \n",
      " 16  violation_code              250306 non-null  object \n",
      " 17  violation_description       250306 non-null  object \n",
      " 18  disposition                 250306 non-null  object \n",
      " 19  fine_amount                 250305 non-null  float64\n",
      " 20  admin_fee                   250306 non-null  float64\n",
      " 21  state_fee                   250306 non-null  float64\n",
      " 22  late_fee                    250306 non-null  float64\n",
      " 23  discount_amount             250306 non-null  float64\n",
      " 24  clean_up_cost               250306 non-null  float64\n",
      " 25  judgment_amount             250306 non-null  float64\n",
      " 26  payment_amount              250306 non-null  float64\n",
      " 27  balance_due                 250306 non-null  float64\n",
      " 28  payment_date                41113 non-null   object \n",
      " 29  payment_status              250306 non-null  object \n",
      " 30  collection_status           36897 non-null   object \n",
      " 31  grafitti_status             1 non-null       object \n",
      " 32  compliance_detail           250306 non-null  object \n",
      " 33  compliance                  159880 non-null  float64\n",
      "dtypes: float64(13), int64(1), object(20)\n",
      "memory usage: 64.9+ MB\n"
     ]
    }
   ],
   "source": [
    "train.info()"
   ]
  },
  {
   "cell_type": "code",
   "execution_count": 19,
   "metadata": {},
   "outputs": [
    {
     "data": {
      "text/html": [
       "<div>\n",
       "<style scoped>\n",
       "    .dataframe tbody tr th:only-of-type {\n",
       "        vertical-align: middle;\n",
       "    }\n",
       "\n",
       "    .dataframe tbody tr th {\n",
       "        vertical-align: top;\n",
       "    }\n",
       "\n",
       "    .dataframe thead th {\n",
       "        text-align: right;\n",
       "    }\n",
       "</style>\n",
       "<table border=\"1\" class=\"dataframe\">\n",
       "  <thead>\n",
       "    <tr style=\"text-align: right;\">\n",
       "      <th></th>\n",
       "      <th>balance_due</th>\n",
       "      <th>discount_amount</th>\n",
       "    </tr>\n",
       "  </thead>\n",
       "  <tbody>\n",
       "    <tr>\n",
       "      <th>0</th>\n",
       "      <td>305.0</td>\n",
       "      <td>0.0</td>\n",
       "    </tr>\n",
       "    <tr>\n",
       "      <th>1</th>\n",
       "      <td>75.0</td>\n",
       "      <td>0.0</td>\n",
       "    </tr>\n",
       "    <tr>\n",
       "      <th>2</th>\n",
       "      <td>0.0</td>\n",
       "      <td>0.0</td>\n",
       "    </tr>\n",
       "    <tr>\n",
       "      <th>3</th>\n",
       "      <td>0.0</td>\n",
       "      <td>0.0</td>\n",
       "    </tr>\n",
       "    <tr>\n",
       "      <th>4</th>\n",
       "      <td>0.0</td>\n",
       "      <td>0.0</td>\n",
       "    </tr>\n",
       "  </tbody>\n",
       "</table>\n",
       "</div>"
      ],
      "text/plain": [
       "   balance_due  discount_amount\n",
       "0        305.0              0.0\n",
       "1         75.0              0.0\n",
       "2          0.0              0.0\n",
       "3          0.0              0.0\n",
       "4          0.0              0.0"
      ]
     },
     "execution_count": 19,
     "metadata": {},
     "output_type": "execute_result"
    }
   ],
   "source": [
    "a = train[['balance_due', 'discount_amount']]\n",
    "a.head()"
   ]
  },
  {
   "cell_type": "code",
   "execution_count": 20,
   "metadata": {},
   "outputs": [
    {
     "data": {
      "text/plain": [
       "(250306, 10)"
      ]
     },
     "execution_count": 20,
     "metadata": {},
     "output_type": "execute_result"
    }
   ],
   "source": [
    "from sklearn.preprocessing import PolynomialFeatures\n",
    "\n",
    "pf = PolynomialFeatures(3)\n",
    "poly_features = pf.fit_transform(train[['balance_due', 'discount_amount']])\n",
    "poly_features\n",
    "poly_features.shape"
   ]
  },
  {
   "cell_type": "code",
   "execution_count": 21,
   "metadata": {},
   "outputs": [
    {
     "data": {
      "text/plain": [
       "array([[  1., 305.,   0., ...,   0.,   0.,   0.],\n",
       "       [  1.,  75.,   0., ...,   0.,   0.,   0.],\n",
       "       [  1.,   0.,   0., ...,   0.,   0.,   0.],\n",
       "       ...,\n",
       "       [  1.,   0.,   0., ...,   0.,   0.,   0.],\n",
       "       [  1.,   0.,   0., ...,   0.,   0.,   0.],\n",
       "       [  1.,   0.,   0., ...,   0.,   0.,   0.]])"
      ]
     },
     "execution_count": 21,
     "metadata": {},
     "output_type": "execute_result"
    }
   ],
   "source": [
    "poly_features"
   ]
  },
  {
   "cell_type": "code",
   "execution_count": 22,
   "metadata": {},
   "outputs": [
    {
     "data": {
      "text/plain": [
       "6"
      ]
     },
     "execution_count": 22,
     "metadata": {},
     "output_type": "execute_result"
    }
   ],
   "source": [
    "an_array = np.mean(poly_features, axis=0)\n",
    "np.argmax(an_array, axis=0)"
   ]
  },
  {
   "cell_type": "code",
   "execution_count": 23,
   "metadata": {},
   "outputs": [
    {
     "data": {
      "text/plain": [
       "0                         NaN\n",
       "1         2005-06-02 00:00:00\n",
       "2                         NaN\n",
       "3                         NaN\n",
       "4                         NaN\n",
       "                 ...         \n",
       "250301                    NaN\n",
       "250302                    NaN\n",
       "250303                    NaN\n",
       "250304                    NaN\n",
       "250305                    NaN\n",
       "Name: payment_date, Length: 250306, dtype: object"
      ]
     },
     "execution_count": 23,
     "metadata": {},
     "output_type": "execute_result"
    }
   ],
   "source": [
    "train.payment_date"
   ]
  },
  {
   "cell_type": "code",
   "execution_count": 24,
   "metadata": {},
   "outputs": [
    {
     "data": {
      "text/plain": [
       "1620"
      ]
     },
     "execution_count": 24,
     "metadata": {},
     "output_type": "execute_result"
    }
   ],
   "source": [
    "datetime_vals = pd.to_datetime(train.ticket_issued_date.dropna())\n",
    "len(datetime_vals[datetime_vals.dt.weekday > 4])"
   ]
  },
  {
   "cell_type": "code",
   "execution_count": 25,
   "metadata": {},
   "outputs": [],
   "source": [
    "ecology_dict = {\n",
    "    'good': 3, 'excellent' :4, 'poor': 1, 'satisfactory': 2, 'no data': 0\n",
    "}\n",
    "df.ecology = df.ecology.replace(to_replace = ecology_dict)"
   ]
  },
  {
   "cell_type": "code",
   "execution_count": 34,
   "metadata": {},
   "outputs": [
    {
     "data": {
      "text/plain": [
       "1.7282483836030063"
      ]
     },
     "execution_count": 34,
     "metadata": {},
     "output_type": "execute_result"
    }
   ],
   "source": [
    "df.ecology.mean()"
   ]
  },
  {
   "cell_type": "code",
   "execution_count": 36,
   "metadata": {},
   "outputs": [
    {
     "data": {
      "text/plain": [
       "count    250306.000000\n",
       "mean        222.449058\n",
       "std         606.394010\n",
       "min       -7750.000000\n",
       "25%           0.000000\n",
       "50%          25.000000\n",
       "75%         305.000000\n",
       "max       11030.000000\n",
       "Name: balance_due, dtype: float64"
      ]
     },
     "execution_count": 36,
     "metadata": {},
     "output_type": "execute_result"
    }
   ],
   "source": [
    "train.balance_due.describe()"
   ]
  },
  {
   "cell_type": "raw",
   "metadata": {},
   "source": [
    "a = train.balance_due.dropna()"
   ]
  },
  {
   "cell_type": "code",
   "execution_count": 61,
   "metadata": {},
   "outputs": [
    {
     "data": {
      "text/plain": [
       "<matplotlib.axes._subplots.AxesSubplot at 0x2470a149908>"
      ]
     },
     "execution_count": 61,
     "metadata": {},
     "output_type": "execute_result"
    },
    {
     "data": {
      "image/png": "[encoded data removed]",
      "text/plain": [
       "<Figure size 432x288 with 1 Axes>"
      ]
     },
     "metadata": {
      "needs_background": "light"
     },
     "output_type": "display_data"
    }
   ],
   "source": [
    "a.boxplot()"
   ]
  },
  {
   "cell_type": "code",
   "execution_count": 62,
   "metadata": {},
   "outputs": [
    {
     "data": {
      "text/plain": [
       "18780.0"
      ]
     },
     "execution_count": 62,
     "metadata": {},
     "output_type": "execute_result"
    }
   ],
   "source": [
    "a.balance_due.max() - a.balance_due.min()"
   ]
  },
  {
   "cell_type": "code",
   "execution_count": null,
   "metadata": {},
   "outputs": [],
   "source": []
  },
  {
   "cell_type": "code",
   "execution_count": null,
   "metadata": {},
   "outputs": [],
   "source": []
  },
  {
   "cell_type": "code",
   "execution_count": 47,
   "metadata": {},
   "outputs": [],
   "source": [
    "from sklearn.cluster import DBSCAN\n",
    "from sklearn.preprocessing import MinMaxScaler"
   ]
  },
  {
   "cell_type": "code",
   "execution_count": null,
   "metadata": {},
   "outputs": [],
   "source": []
  },
  {
   "cell_type": "code",
   "execution_count": 60,
   "metadata": {},
   "outputs": [
    {
     "data": {
      "text/plain": [
       "DBSCAN(eps=0         305.0\n",
       "1          75.0\n",
       "2           0.0\n",
       "3           0.0\n",
       "4           0.0\n",
       "          ...  \n",
       "250301      0.0\n",
       "250302      0.0\n",
       "250303      0.0\n",
       "250304      0.0\n",
       "250305      0.0\n",
       "Name: balance_due, Length: 250306, dtype: float64)"
      ]
     },
     "execution_count": 60,
     "metadata": {},
     "output_type": "execute_result"
    }
   ],
   "source": [
    "c = DBSCAN(a.balance_due)\n",
    "c"
   ]
  },
  {
   "cell_type": "code",
   "execution_count": 55,
   "metadata": {},
   "outputs": [
    {
     "data": {
      "text/plain": [
       "18780.0"
      ]
     },
     "execution_count": 55,
     "metadata": {},
     "output_type": "execute_result"
    }
   ],
   "source": [
    "def outliers_iqr(ys):\n",
    "    quartile_1, quartile_3 = np.percentile(ys, [25, 75])\n",
    "    iqr = quartile_3 - quartile_1\n",
    "    lower_bound = quartile_1 - (iqr * 1.5)\n",
    "    upper_bound = quartile_3 + (iqr * 1.5)\n",
    "    return np.where((ys > upper_bound) | (ys < lower_bound))[0]\n",
    "\n",
    "o = outliers_iqr(train.balance_due.dropna())\n",
    "vis_data2 = pd.concat([pd.DataFrame(o), train], axis=1)\n",
    "np.abs(vis_data2.balance_due.min() - vis_data2.balance_due.max())"
   ]
  },
  {
   "cell_type": "code",
   "execution_count": null,
   "metadata": {},
   "outputs": [],
   "source": []
  }
 ],
 "metadata": {
  "kernelspec": {
   "display_name": "Python 3",
   "language": "python",
   "name": "python3"
  },
  "language_info": {
   "codemirror_mode": {
    "name": "ipython",
    "version": 3
   },
   "file_extension": ".py",
   "mimetype": "text/x-python",
   "name": "python",
   "nbconvert_exporter": "python",
   "pygments_lexer": "ipython3",
   "version": "3.7.7"
  }
 },
 "nbformat": 4,
 "nbformat_minor": 4
}
